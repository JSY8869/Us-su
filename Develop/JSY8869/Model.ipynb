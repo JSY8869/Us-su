{
 "metadata": {
  "language_info": {
   "codemirror_mode": {
    "name": "ipython",
    "version": 3
   },
   "file_extension": ".py",
   "mimetype": "text/x-python",
   "name": "python",
   "nbconvert_exporter": "python",
   "pygments_lexer": "ipython3",
   "version": "3.6.13"
  },
  "orig_nbformat": 2,
  "kernelspec": {
   "name": "python3613jvsc74a57bd0f033e84406cb9c9cf7d789cc233baa47f5d4ea2c1c78f85895894d4950d24930",
   "display_name": "Python 3.6.13 64-bit ('Us_su': conda)"
  },
  "metadata": {
   "interpreter": {
    "hash": "f033e84406cb9c9cf7d789cc233baa47f5d4ea2c1c78f85895894d4950d24930"
   }
  }
 },
 "nbformat": 4,
 "nbformat_minor": 2,
 "cells": [
  {
   "cell_type": "code",
   "execution_count": 3,
   "metadata": {},
   "outputs": [],
   "source": [
    "from konlpy.tag import Okt\n",
    "from tensorflow.keras.utils import get_file\n",
    "from tensorflow.keras.preprocessing.sequence import pad_sequences\n",
    "from tensorflow.keras.utils import to_categorical\n",
    "import numpy as np\n",
    "from nltk import FreqDist\n",
    "from functools import reduce\n",
    "import os\n",
    "import re\n",
    "import matplotlib.pyplot as plt"
   ]
  },
  {
   "cell_type": "code",
   "execution_count": 4,
   "metadata": {},
   "outputs": [],
   "source": [
    "okt = Okt()"
   ]
  },
  {
   "cell_type": "code",
   "execution_count": 5,
   "metadata": {},
   "outputs": [],
   "source": [
    "TRAIN_FILE = os.path.join(\"qa1_single-supporting-fact_train_kor.txt\")\n",
    "TEST_FILE = os.path.join(\"qa1_single-supporting-fact_test_kor.txt\")"
   ]
  },
  {
   "cell_type": "code",
   "execution_count": 6,
   "metadata": {},
   "outputs": [
    {
     "output_type": "stream",
     "name": "stdout",
     "text": [
      "1 필웅이는 화장실로 갔습니다.\n2 은경이는 복도로 이동했습니다.\n3 필웅이는 어디야? \t화장실\t1\n4 수종이는 복도로 복귀했습니다.\n5 경임이는 정원으로 갔습니다.\n6 수종이는 어디야? \t복도\t4\n7 은경이는 사무실로 갔습니다.\n8 경임이는 화장실로 뛰어갔습니다.\n9 수종이는 어디야? \t복도\t4\n10 필웅이는 복도로 갔습니다.\n11 수종이는 사무실로 가버렸습니다.\n12 수종이는 어디야? \t사무실\t11\n13 은경이는 정원으로 복귀했습니다.\n14 은경이는 침실로 갔습니다.\n15 경임이는 어디야? \t화장실\t8\n1 경임이는 사무실로 가버렸습니다.\n2 경임이는 화장실로 이동했습니다.\n3 경임이는 어디야? \t화장실\t2\n4 필웅이는 침실로 이동했습니다.\n5 수종이는 복도로 갔습니다.\n"
     ]
    }
   ],
   "source": [
    "i = 0\n",
    "lines = open(TRAIN_FILE , \"rb\")\n",
    "for line in lines:\n",
    "    line = line.decode(\"utf-8\").strip()\n",
    "    i = i + 1\n",
    "    print(line)\n",
    "    if i == 20:\n",
    "      break"
   ]
  },
  {
   "cell_type": "code",
   "execution_count": 7,
   "metadata": {},
   "outputs": [],
   "source": [
    "def read_data(dir):\n",
    "    stories, questions, answers = [], [], [] # 각각 스토리, 질문, 답변을 저장할 예정\n",
    "    story_temp = [] # 현재 시점의 스토리 임시 저장\n",
    "    lines = open(dir, \"rb\")\n",
    "\n",
    "    for line in lines:\n",
    "        line = line.decode(\"utf-8\") # b' 제거\n",
    "        line = line.strip() # '\\n' 제거\n",
    "        idx, text = line.split(\" \", 1) # 맨 앞에 있는 id number 분리\n",
    "        # 여기까지는 모든 줄에 적용되는 전처리\n",
    "\n",
    "        if int(idx) == 1:\n",
    "            story_temp = []\n",
    "\n",
    "        if \"\\t\" in text: # 현재 읽는 줄이 질문 (tab) 답변 (tab)인 경우\n",
    "            question, answer, _ = text.split(\"\\t\") # 질문과 답변을 각각 저장\n",
    "            stories.append([x for x in story_temp if x]) # 지금까지의 누적 스토리를 스토리에 저장\n",
    "            questions.append(question)\n",
    "            answers.append(answer)\n",
    "\n",
    "        else: # 현재 읽는 줄이 스토리인 경우\n",
    "            story_temp.append(text) # 임시 저장\n",
    "\n",
    "    lines.close()\n",
    "    return stories, questions, answers"
   ]
  },
  {
   "cell_type": "code",
   "execution_count": 8,
   "metadata": {},
   "outputs": [],
   "source": [
    "train_data = read_data(TRAIN_FILE)\n",
    "test_data = read_data(TEST_FILE)"
   ]
  },
  {
   "cell_type": "code",
   "execution_count": 9,
   "metadata": {},
   "outputs": [],
   "source": [
    "train_stories, train_questions, train_answers = read_data(TRAIN_FILE)\n",
    "test_stories, test_questions, test_answers = read_data(TEST_FILE)"
   ]
  },
  {
   "cell_type": "code",
   "execution_count": 10,
   "metadata": {},
   "outputs": [],
   "source": [
    "# print('훈련용 스토리의 개수 :', len(train_stories))\n",
    "# print('훈련용 질문의 개수 :',len(train_questions))\n",
    "# print('훈련용 답변의 개수 :',len(train_answers))\n",
    "# print('테스트용 스토리의 개수 :',len(test_stories))\n",
    "# print('테스트용 질문의 개수 :',len(test_questions))\n",
    "# print('테스트용 답변의 개수 :',len(test_answers))"
   ]
  },
  {
   "cell_type": "code",
   "execution_count": 11,
   "metadata": {},
   "outputs": [],
   "source": [
    "def tokenize(sent):\n",
    "    return [x.strip() for x in re.split('(\\W+)?', sent) if x.strip()]"
   ]
  },
  {
   "cell_type": "code",
   "execution_count": 12,
   "metadata": {},
   "outputs": [],
   "source": [
    "def preprocess_data(train_data, test_data):\n",
    "    counter = FreqDist()\n",
    "\n",
    "    # 두 문장의 story를 하나의 문장으로 통합하는 함수\n",
    "    flatten = lambda data: reduce(lambda x, y: x + y, data)\n",
    "\n",
    "    # 각 샘플의 길이를 저장하는 리스트\n",
    "    story_len = []\n",
    "    question_len = []\n",
    "\n",
    "    for stories, questions, answers in [train_data, test_data]:\n",
    "        for story in stories:\n",
    "            stories = tokenize(flatten(story)) # 스토리의 문장들을 펼친 후 토큰화\n",
    "            story_len.append(len(stories)) # 각 story의 길이 저장\n",
    "            for word in stories: # 단어 집합에 단어 추가\n",
    "                counter[word] += 1\n",
    "        for question in questions:\n",
    "            question = tokenize(question)\n",
    "            question_len.append(len(question))\n",
    "            for word in question:\n",
    "                counter[word] += 1\n",
    "        for answer in answers:\n",
    "            answer = tokenize(answer)\n",
    "            for word in answer:\n",
    "                counter[word] += 1\n",
    "\n",
    "    # 단어 집합 생성\n",
    "    word2idx = {word : (idx + 1) for idx, (word, _) in enumerate(counter.most_common())}\n",
    "    idx2word = {idx : word for word, idx in word2idx.items()}\n",
    "\n",
    "    # 가장 긴 샘플의 길이\n",
    "    story_max_len = np.max(story_len)\n",
    "    question_max_len = np.max(question_len)\n",
    "\n",
    "    return word2idx, idx2word, story_max_len, question_max_len"
   ]
  },
  {
   "cell_type": "code",
   "execution_count": 13,
   "metadata": {},
   "outputs": [
    {
     "output_type": "stream",
     "name": "stderr",
     "text": [
      "C:\\Users\\Jason\\anaconda3\\envs\\Us_su\\lib\\re.py:212: FutureWarning: split() requires a non-empty pattern match.\n  return _compile(pattern, flags).split(string, maxsplit)\n"
     ]
    }
   ],
   "source": [
    "word2idx, idx2word, story_max_len, question_max_len = preprocess_data(train_data, test_data)"
   ]
  },
  {
   "cell_type": "code",
   "execution_count": 14,
   "metadata": {},
   "outputs": [],
   "source": [
    "vocab_size = len(word2idx) + 1"
   ]
  },
  {
   "cell_type": "code",
   "execution_count": 15,
   "metadata": {},
   "outputs": [
    {
     "output_type": "stream",
     "name": "stdout",
     "text": [
      "스토리의 최대 길이 : 40\n질문의 최대 길이 : 3\n"
     ]
    }
   ],
   "source": [
    "print('스토리의 최대 길이 :',story_max_len)\n",
    "print('질문의 최대 길이 :',question_max_len)"
   ]
  },
  {
   "cell_type": "code",
   "execution_count": 16,
   "metadata": {},
   "outputs": [],
   "source": [
    "def vectorize(data, word2idx, story_maxlen, question_maxlen):\n",
    "    Xs, Xq, Y = [], [], []\n",
    "    flatten = lambda data: reduce(lambda x, y: x + y, data)\n",
    "\n",
    "    stories, questions, answers = data\n",
    "    for story, question, answer in zip(stories, questions, answers):\n",
    "        xs = [word2idx[w] for w in tokenize(flatten(story))]\n",
    "        xq = [word2idx[w] for w in tokenize(question)]\n",
    "        Xs.append(xs)\n",
    "        Xq.append(xq)\n",
    "        Y.append(word2idx[answer])\n",
    "        # 스토리와 질문은 각각의 최대 길이로 패딩\n",
    "        # 정답은 원-핫 인코딩\n",
    "    return pad_sequences(Xs, maxlen=story_maxlen),\\\n",
    "           pad_sequences(Xq, maxlen=question_maxlen),\\\n",
    "           to_categorical(Y, num_classes=len(word2idx) + 1)"
   ]
  },
  {
   "cell_type": "code",
   "execution_count": 17,
   "metadata": {},
   "outputs": [],
   "source": [
    "Xstrain, Xqtrain, Ytrain = vectorize(train_data, word2idx, story_max_len, question_max_len)\n",
    "Xstest, Xqtest, Ytest = vectorize(test_data, word2idx, story_max_len, question_max_len)"
   ]
  },
  {
   "cell_type": "code",
   "execution_count": 18,
   "metadata": {},
   "outputs": [
    {
     "output_type": "stream",
     "name": "stdout",
     "text": [
      "(10000, 40) (10000, 3) (10000, 25) (1000, 40) (1000, 3) (1000, 25)\n"
     ]
    }
   ],
   "source": [
    "print(Xstrain.shape, Xqtrain.shape, Ytrain.shape, Xstest.shape, Xqtest.shape, Ytest.shape)"
   ]
  },
  {
   "cell_type": "code",
   "execution_count": 19,
   "metadata": {},
   "outputs": [],
   "source": [
    "from tensorflow.keras.models import Sequential, Model\n",
    "from tensorflow.keras.layers import Embedding\n",
    "from tensorflow.keras.layers import Permute, dot, add, concatenate\n",
    "from tensorflow.keras.layers import LSTM, Dense, Dropout, Input, Activation"
   ]
  },
  {
   "cell_type": "code",
   "execution_count": 20,
   "metadata": {},
   "outputs": [],
   "source": [
    "# 에포크 횟수\n",
    "train_epochs = 120\n",
    "# 배치 크기\n",
    "batch_size = 32\n",
    "# 임베딩 크기\n",
    "embed_size = 50\n",
    "# LSTM의 크기\n",
    "lstm_size = 64\n",
    "# 과적합 방지 기법인 드롭아웃 적용 비율\n",
    "dropout_rate = 0.30"
   ]
  },
  {
   "cell_type": "code",
   "execution_count": 21,
   "metadata": {},
   "outputs": [],
   "source": [
    "input_sequence = Input((story_max_len,))\n",
    "question = Input((question_max_len,))\n",
    "\n",
    "# print('Stories :', input_sequence)\n",
    "# print('Question:', question)"
   ]
  },
  {
   "cell_type": "code",
   "execution_count": 22,
   "metadata": {},
   "outputs": [],
   "source": [
    "# 스토리를 위한 첫번째 임베딩. 그림에서의 Embedding A\n",
    "input_encoder_m = Sequential()\n",
    "input_encoder_m.add(Embedding(input_dim=vocab_size,\n",
    "                              output_dim=embed_size))\n",
    "input_encoder_m.add(Dropout(dropout_rate))\n",
    "# 결과 : (samples, story_max_len, embedding_dim) / 샘플의 수, 문장의 최대 길이, 임베딩 벡터의 차원\n",
    "\n",
    "# 스토리를 위한 두번째 임베딩. 그림에서의 Embedding C\n",
    "# 임베딩 벡터의 차원을 question_max_len(질문의 최대 길이)로 한다.\n",
    "input_encoder_c = Sequential()\n",
    "input_encoder_c.add(Embedding(input_dim=vocab_size,\n",
    "                              output_dim=question_max_len))\n",
    "input_encoder_c.add(Dropout(dropout_rate))\n",
    "# 결과 : (samples, story_max_len, question_max_len) / 샘플의 수, 문장의 최대 길이, 질문의 최대 길이(임베딩 벡터의 차원)"
   ]
  },
  {
   "cell_type": "code",
   "execution_count": 23,
   "metadata": {},
   "outputs": [],
   "source": [
    "# 질문을 위한 임베딩. 그림에서의 Embedding B\n",
    "question_encoder = Sequential()\n",
    "question_encoder.add(Embedding(input_dim=vocab_size,\n",
    "                               output_dim=embed_size,\n",
    "                               input_length=question_max_len))\n",
    "question_encoder.add(Dropout(dropout_rate))\n",
    "# 결과 : (samples, question_max_len, embedding_dim) / 샘플의 수, 질문의 최대 길이, 임베딩 벡터의 차원"
   ]
  },
  {
   "cell_type": "code",
   "execution_count": 24,
   "metadata": {},
   "outputs": [],
   "source": [
    "# 실질적인 임베딩 과정\n",
    "input_encoded_m = input_encoder_m(input_sequence)\n",
    "input_encoded_c = input_encoder_c(input_sequence)\n",
    "question_encoded = question_encoder(question)\n",
    "\n",
    "# print('Input encoded m', input_encoded_m)\n",
    "# print('Input encoded c', input_encoded_c)\n",
    "# print('Question encoded', question_encoded)"
   ]
  },
  {
   "cell_type": "code",
   "execution_count": 25,
   "metadata": {},
   "outputs": [
    {
     "output_type": "stream",
     "name": "stdout",
     "text": [
      "Match shape KerasTensor(type_spec=TensorSpec(shape=(None, 40, 3), dtype=tf.float32, name=None), name='activation/truediv:0', description=\"created by layer 'activation'\")\nResponse shape KerasTensor(type_spec=TensorSpec(shape=(None, 3, 40), dtype=tf.float32, name=None), name='permute/transpose:0', description=\"created by layer 'permute'\")\nAnswer shape KerasTensor(type_spec=TensorSpec(shape=(None, 3, 90), dtype=tf.float32, name=None), name='concatenate/concat:0', description=\"created by layer 'concatenate'\")\n"
     ]
    }
   ],
   "source": [
    "# 스토리 단어들과 질문 단어들 간의 유사도를 구하는 과정\n",
    "# 유사도는 내적을 사용한다.\n",
    "match = dot([input_encoded_m, question_encoded], axes=-1, normalize=False)\n",
    "match = Activation('softmax')(match)\n",
    "print('Match shape', match)\n",
    "# 결과 : (samples, story_maxlen, question_max_len) / 샘플의 수, 문장의 최대 길이, 질문의 최대 길이\n",
    "\n",
    "# add the match matrix with the second input vector sequence\n",
    "response = add([match, input_encoded_c])  # (samples, story_max_len, question_max_len)\n",
    "response = Permute((2, 1))(response)  # (samples, question_max_len, story_max_len)\n",
    "print('Response shape', response)\n",
    "\n",
    "# concatenate the response vector with the question vector sequence\n",
    "answer = concatenate([response, question_encoded])\n",
    "print('Answer shape', answer)\n",
    "\n",
    "answer = LSTM(lstm_size)(answer)  # Generate tensors of shape 32\n",
    "answer = Dropout(dropout_rate)(answer)\n",
    "answer = Dense(vocab_size)(answer)  # (samples, vocab_size)\n",
    "# we output a probability distribution over the vocabulary\n",
    "answer = Activation('softmax')(answer)"
   ]
  },
  {
   "cell_type": "code",
   "execution_count": 26,
   "metadata": {},
   "outputs": [
    {
     "output_type": "stream",
     "name": "stdout",
     "text": [
      "Model: \"model\"\n",
      "__________________________________________________________________________________________________\n",
      "Layer (type)                    Output Shape         Param #     Connected to                     \n",
      "==================================================================================================\n",
      "input_1 (InputLayer)            [(None, 40)]         0                                            \n",
      "__________________________________________________________________________________________________\n",
      "input_2 (InputLayer)            [(None, 3)]          0                                            \n",
      "__________________________________________________________________________________________________\n",
      "sequential (Sequential)         (None, None, 50)     1250        input_1[0][0]                    \n",
      "__________________________________________________________________________________________________\n",
      "sequential_2 (Sequential)       (None, 3, 50)        1250        input_2[0][0]                    \n",
      "__________________________________________________________________________________________________\n",
      "dot (Dot)                       (None, 40, 3)        0           sequential[0][0]                 \n",
      "                                                                 sequential_2[0][0]               \n",
      "__________________________________________________________________________________________________\n",
      "activation (Activation)         (None, 40, 3)        0           dot[0][0]                        \n",
      "__________________________________________________________________________________________________\n",
      "sequential_1 (Sequential)       (None, None, 3)      75          input_1[0][0]                    \n",
      "__________________________________________________________________________________________________\n",
      "add (Add)                       (None, 40, 3)        0           activation[0][0]                 \n",
      "                                                                 sequential_1[0][0]               \n",
      "__________________________________________________________________________________________________\n",
      "permute (Permute)               (None, 3, 40)        0           add[0][0]                        \n",
      "__________________________________________________________________________________________________\n",
      "concatenate (Concatenate)       (None, 3, 90)        0           permute[0][0]                    \n",
      "                                                                 sequential_2[0][0]               \n",
      "__________________________________________________________________________________________________\n",
      "lstm (LSTM)                     (None, 64)           39680       concatenate[0][0]                \n",
      "__________________________________________________________________________________________________\n",
      "dropout_3 (Dropout)             (None, 64)           0           lstm[0][0]                       \n",
      "__________________________________________________________________________________________________\n",
      "dense (Dense)                   (None, 25)           1625        dropout_3[0][0]                  \n",
      "__________________________________________________________________________________________________\n",
      "activation_1 (Activation)       (None, 25)           0           dense[0][0]                      \n",
      "==================================================================================================\n",
      "Total params: 43,880\n",
      "Trainable params: 43,880\n",
      "Non-trainable params: 0\n",
      "__________________________________________________________________________________________________\n",
      "None\n",
      "Epoch 1/120\n",
      "313/313 [==============================] - 7s 9ms/step - loss: 2.0861 - acc: 0.1576 - val_loss: 1.7470 - val_acc: 0.2520\n",
      "Epoch 2/120\n",
      "313/313 [==============================] - 2s 6ms/step - loss: 1.7155 - acc: 0.2254 - val_loss: 1.6501 - val_acc: 0.2400\n",
      "Epoch 3/120\n",
      "313/313 [==============================] - 2s 6ms/step - loss: 1.6452 - acc: 0.2676 - val_loss: 1.5551 - val_acc: 0.3650\n",
      "Epoch 4/120\n",
      "313/313 [==============================] - 2s 5ms/step - loss: 1.5590 - acc: 0.3441 - val_loss: 1.4973 - val_acc: 0.3840\n",
      "Epoch 5/120\n",
      "313/313 [==============================] - 2s 5ms/step - loss: 1.5068 - acc: 0.3832 - val_loss: 1.4579 - val_acc: 0.4110\n",
      "Epoch 6/120\n",
      "313/313 [==============================] - 2s 5ms/step - loss: 1.4358 - acc: 0.4338 - val_loss: 1.3673 - val_acc: 0.4480\n",
      "Epoch 7/120\n",
      "313/313 [==============================] - 2s 5ms/step - loss: 1.3925 - acc: 0.4519 - val_loss: 1.3400 - val_acc: 0.4490\n",
      "Epoch 8/120\n",
      "313/313 [==============================] - 2s 5ms/step - loss: 1.3580 - acc: 0.4673 - val_loss: 1.3277 - val_acc: 0.4580\n",
      "Epoch 9/120\n",
      "313/313 [==============================] - 2s 5ms/step - loss: 1.3562 - acc: 0.4503 - val_loss: 1.3225 - val_acc: 0.4670\n",
      "Epoch 10/120\n",
      "313/313 [==============================] - 2s 5ms/step - loss: 1.3439 - acc: 0.4661 - val_loss: 1.3032 - val_acc: 0.4670\n",
      "Epoch 11/120\n",
      "313/313 [==============================] - 2s 5ms/step - loss: 1.3331 - acc: 0.4649 - val_loss: 1.3174 - val_acc: 0.4500\n",
      "Epoch 12/120\n",
      "313/313 [==============================] - 2s 6ms/step - loss: 1.3132 - acc: 0.4782 - val_loss: 1.2785 - val_acc: 0.4750\n",
      "Epoch 13/120\n",
      "313/313 [==============================] - 2s 5ms/step - loss: 1.2770 - acc: 0.4953 - val_loss: 1.2633 - val_acc: 0.5020\n",
      "Epoch 14/120\n",
      "313/313 [==============================] - 2s 5ms/step - loss: 1.2774 - acc: 0.5001 - val_loss: 1.2429 - val_acc: 0.5070\n",
      "Epoch 15/120\n",
      "313/313 [==============================] - 2s 5ms/step - loss: 1.2722 - acc: 0.4945 - val_loss: 1.2347 - val_acc: 0.5250\n",
      "Epoch 16/120\n",
      "313/313 [==============================] - 2s 5ms/step - loss: 1.2697 - acc: 0.4881 - val_loss: 1.2314 - val_acc: 0.5280\n",
      "Epoch 17/120\n",
      "313/313 [==============================] - 2s 6ms/step - loss: 1.2660 - acc: 0.4991 - val_loss: 1.2167 - val_acc: 0.5250\n",
      "Epoch 18/120\n",
      "313/313 [==============================] - 2s 6ms/step - loss: 1.2583 - acc: 0.4938 - val_loss: 1.1931 - val_acc: 0.5180\n",
      "Epoch 19/120\n",
      "313/313 [==============================] - 2s 5ms/step - loss: 1.2397 - acc: 0.5036 - val_loss: 1.2034 - val_acc: 0.5320\n",
      "Epoch 20/120\n",
      "313/313 [==============================] - 2s 5ms/step - loss: 1.2305 - acc: 0.5124 - val_loss: 1.1895 - val_acc: 0.5110\n",
      "Epoch 21/120\n",
      "313/313 [==============================] - 2s 6ms/step - loss: 1.2077 - acc: 0.5178 - val_loss: 1.1954 - val_acc: 0.5270\n",
      "Epoch 22/120\n",
      "313/313 [==============================] - 2s 6ms/step - loss: 1.2285 - acc: 0.5155 - val_loss: 1.1954 - val_acc: 0.5370\n",
      "Epoch 23/120\n",
      "313/313 [==============================] - 2s 5ms/step - loss: 1.2156 - acc: 0.5198 - val_loss: 1.1610 - val_acc: 0.5510\n",
      "Epoch 24/120\n",
      "313/313 [==============================] - 2s 6ms/step - loss: 1.1757 - acc: 0.5355 - val_loss: 1.1466 - val_acc: 0.5680\n",
      "Epoch 25/120\n",
      "313/313 [==============================] - 2s 5ms/step - loss: 1.1651 - acc: 0.5425 - val_loss: 1.1030 - val_acc: 0.5820\n",
      "Epoch 26/120\n",
      "313/313 [==============================] - 2s 5ms/step - loss: 1.1277 - acc: 0.5745 - val_loss: 1.0316 - val_acc: 0.6390\n",
      "Epoch 27/120\n",
      "313/313 [==============================] - 2s 6ms/step - loss: 1.0480 - acc: 0.6154 - val_loss: 0.9630 - val_acc: 0.6650\n",
      "Epoch 28/120\n",
      "313/313 [==============================] - 2s 6ms/step - loss: 0.9924 - acc: 0.6419 - val_loss: 0.8887 - val_acc: 0.6830\n",
      "Epoch 29/120\n",
      "313/313 [==============================] - 2s 6ms/step - loss: 0.9167 - acc: 0.6658 - val_loss: 0.8338 - val_acc: 0.6970\n",
      "Epoch 30/120\n",
      "313/313 [==============================] - 2s 6ms/step - loss: 0.8494 - acc: 0.6951 - val_loss: 0.7694 - val_acc: 0.7380\n",
      "Epoch 31/120\n",
      "313/313 [==============================] - 2s 6ms/step - loss: 0.7971 - acc: 0.7043 - val_loss: 0.7295 - val_acc: 0.7360\n",
      "Epoch 32/120\n",
      "313/313 [==============================] - 2s 6ms/step - loss: 0.7381 - acc: 0.7320 - val_loss: 0.7048 - val_acc: 0.7420\n",
      "Epoch 33/120\n",
      "313/313 [==============================] - 2s 6ms/step - loss: 0.7473 - acc: 0.7254 - val_loss: 0.6792 - val_acc: 0.7570\n",
      "Epoch 34/120\n",
      "313/313 [==============================] - 2s 5ms/step - loss: 0.7075 - acc: 0.7359 - val_loss: 0.6582 - val_acc: 0.7540\n",
      "Epoch 35/120\n",
      "313/313 [==============================] - 2s 6ms/step - loss: 0.6648 - acc: 0.7520 - val_loss: 0.6288 - val_acc: 0.7660\n",
      "Epoch 36/120\n",
      "313/313 [==============================] - 2s 5ms/step - loss: 0.6335 - acc: 0.7660 - val_loss: 0.5993 - val_acc: 0.7810\n",
      "Epoch 37/120\n",
      "313/313 [==============================] - 2s 5ms/step - loss: 0.5900 - acc: 0.7753 - val_loss: 0.5695 - val_acc: 0.7870\n",
      "Epoch 38/120\n",
      "313/313 [==============================] - 2s 5ms/step - loss: 0.5674 - acc: 0.7901 - val_loss: 0.5507 - val_acc: 0.7960\n",
      "Epoch 39/120\n",
      "313/313 [==============================] - 2s 5ms/step - loss: 0.5391 - acc: 0.7995 - val_loss: 0.5260 - val_acc: 0.8000\n",
      "Epoch 40/120\n",
      "313/313 [==============================] - 2s 5ms/step - loss: 0.5225 - acc: 0.8036 - val_loss: 0.4996 - val_acc: 0.8060\n",
      "Epoch 41/120\n",
      "313/313 [==============================] - 2s 6ms/step - loss: 0.4808 - acc: 0.8246 - val_loss: 0.4710 - val_acc: 0.8200\n",
      "Epoch 42/120\n",
      "313/313 [==============================] - 2s 6ms/step - loss: 0.4723 - acc: 0.8304 - val_loss: 0.4607 - val_acc: 0.8150\n",
      "Epoch 43/120\n",
      "313/313 [==============================] - 2s 5ms/step - loss: 0.4519 - acc: 0.8376 - val_loss: 0.4414 - val_acc: 0.8300\n",
      "Epoch 44/120\n",
      "313/313 [==============================] - 2s 5ms/step - loss: 0.4313 - acc: 0.8434 - val_loss: 0.4270 - val_acc: 0.8420\n",
      "Epoch 45/120\n",
      "313/313 [==============================] - 2s 5ms/step - loss: 0.3998 - acc: 0.8527 - val_loss: 0.4257 - val_acc: 0.8390\n",
      "Epoch 46/120\n",
      "313/313 [==============================] - 2s 5ms/step - loss: 0.3978 - acc: 0.8473 - val_loss: 0.3996 - val_acc: 0.8490\n",
      "Epoch 47/120\n",
      "313/313 [==============================] - 2s 5ms/step - loss: 0.3868 - acc: 0.8554 - val_loss: 0.3934 - val_acc: 0.8560\n",
      "Epoch 48/120\n",
      "313/313 [==============================] - 2s 5ms/step - loss: 0.3751 - acc: 0.8583 - val_loss: 0.3844 - val_acc: 0.8520\n",
      "Epoch 49/120\n",
      "313/313 [==============================] - 2s 5ms/step - loss: 0.3669 - acc: 0.8626 - val_loss: 0.3938 - val_acc: 0.8530\n",
      "Epoch 50/120\n",
      "313/313 [==============================] - 2s 5ms/step - loss: 0.3536 - acc: 0.8672 - val_loss: 0.3692 - val_acc: 0.8560\n",
      "Epoch 51/120\n",
      "313/313 [==============================] - 2s 5ms/step - loss: 0.3407 - acc: 0.8714 - val_loss: 0.3605 - val_acc: 0.8620\n",
      "Epoch 52/120\n",
      "313/313 [==============================] - 2s 5ms/step - loss: 0.3428 - acc: 0.8724 - val_loss: 0.3535 - val_acc: 0.8660\n",
      "Epoch 53/120\n",
      "313/313 [==============================] - 2s 5ms/step - loss: 0.3345 - acc: 0.8771 - val_loss: 0.3702 - val_acc: 0.8570\n",
      "Epoch 54/120\n",
      "313/313 [==============================] - 2s 5ms/step - loss: 0.3192 - acc: 0.8779 - val_loss: 0.3570 - val_acc: 0.8620\n",
      "Epoch 55/120\n",
      "313/313 [==============================] - 2s 5ms/step - loss: 0.3091 - acc: 0.8814 - val_loss: 0.3720 - val_acc: 0.8570\n",
      "Epoch 56/120\n",
      "313/313 [==============================] - 2s 5ms/step - loss: 0.3020 - acc: 0.8918 - val_loss: 0.3482 - val_acc: 0.8660\n",
      "Epoch 57/120\n",
      "313/313 [==============================] - 2s 5ms/step - loss: 0.2984 - acc: 0.8889 - val_loss: 0.3473 - val_acc: 0.8740\n",
      "Epoch 58/120\n",
      "313/313 [==============================] - 2s 5ms/step - loss: 0.2853 - acc: 0.8908 - val_loss: 0.3398 - val_acc: 0.8690\n",
      "Epoch 59/120\n",
      "313/313 [==============================] - 2s 5ms/step - loss: 0.2841 - acc: 0.8941 - val_loss: 0.3324 - val_acc: 0.8720\n",
      "Epoch 60/120\n",
      "313/313 [==============================] - 2s 5ms/step - loss: 0.2666 - acc: 0.9008 - val_loss: 0.3269 - val_acc: 0.8770\n",
      "Epoch 61/120\n",
      "313/313 [==============================] - 2s 5ms/step - loss: 0.2662 - acc: 0.9008 - val_loss: 0.3177 - val_acc: 0.8730\n",
      "Epoch 62/120\n",
      "313/313 [==============================] - 2s 5ms/step - loss: 0.2633 - acc: 0.9051 - val_loss: 0.3268 - val_acc: 0.8830\n",
      "Epoch 63/120\n",
      "313/313 [==============================] - 2s 5ms/step - loss: 0.2517 - acc: 0.9067 - val_loss: 0.3100 - val_acc: 0.8890\n",
      "Epoch 64/120\n",
      "313/313 [==============================] - 2s 5ms/step - loss: 0.2475 - acc: 0.9088 - val_loss: 0.3085 - val_acc: 0.8850\n",
      "Epoch 65/120\n",
      "313/313 [==============================] - 2s 6ms/step - loss: 0.2347 - acc: 0.9142 - val_loss: 0.3091 - val_acc: 0.8910\n",
      "Epoch 66/120\n",
      "313/313 [==============================] - 2s 5ms/step - loss: 0.2373 - acc: 0.9175 - val_loss: 0.3410 - val_acc: 0.8850\n",
      "Epoch 67/120\n",
      "313/313 [==============================] - 2s 5ms/step - loss: 0.2163 - acc: 0.9231 - val_loss: 0.2928 - val_acc: 0.8980\n",
      "Epoch 68/120\n",
      "313/313 [==============================] - 2s 5ms/step - loss: 0.2211 - acc: 0.9195 - val_loss: 0.3100 - val_acc: 0.8900\n",
      "Epoch 69/120\n",
      "313/313 [==============================] - 2s 6ms/step - loss: 0.2171 - acc: 0.9140 - val_loss: 0.3151 - val_acc: 0.8940\n",
      "Epoch 70/120\n",
      "313/313 [==============================] - 2s 6ms/step - loss: 0.2188 - acc: 0.9226 - val_loss: 0.3062 - val_acc: 0.8870\n",
      "Epoch 71/120\n",
      "313/313 [==============================] - 2s 5ms/step - loss: 0.2064 - acc: 0.9247 - val_loss: 0.2919 - val_acc: 0.9010\n",
      "Epoch 72/120\n",
      "313/313 [==============================] - 2s 5ms/step - loss: 0.1944 - acc: 0.9283 - val_loss: 0.2997 - val_acc: 0.9020\n",
      "Epoch 73/120\n",
      "313/313 [==============================] - 2s 5ms/step - loss: 0.2006 - acc: 0.9287 - val_loss: 0.2791 - val_acc: 0.9100\n",
      "Epoch 74/120\n",
      "313/313 [==============================] - 2s 5ms/step - loss: 0.1849 - acc: 0.9339 - val_loss: 0.2928 - val_acc: 0.8980\n",
      "Epoch 75/120\n",
      "313/313 [==============================] - 2s 5ms/step - loss: 0.1892 - acc: 0.9293 - val_loss: 0.2724 - val_acc: 0.9080\n",
      "Epoch 76/120\n",
      "313/313 [==============================] - 2s 5ms/step - loss: 0.1733 - acc: 0.9378 - val_loss: 0.3107 - val_acc: 0.8990\n",
      "Epoch 77/120\n",
      "313/313 [==============================] - 2s 5ms/step - loss: 0.1780 - acc: 0.9364 - val_loss: 0.2843 - val_acc: 0.9100\n",
      "Epoch 78/120\n",
      "313/313 [==============================] - 2s 5ms/step - loss: 0.1687 - acc: 0.9390 - val_loss: 0.2779 - val_acc: 0.9170\n",
      "Epoch 79/120\n",
      "313/313 [==============================] - 2s 5ms/step - loss: 0.1628 - acc: 0.9399 - val_loss: 0.2680 - val_acc: 0.9190\n",
      "Epoch 80/120\n",
      "313/313 [==============================] - 2s 5ms/step - loss: 0.1571 - acc: 0.9418 - val_loss: 0.2828 - val_acc: 0.9120\n",
      "Epoch 81/120\n",
      "313/313 [==============================] - 2s 5ms/step - loss: 0.1616 - acc: 0.9431 - val_loss: 0.2694 - val_acc: 0.9170\n",
      "Epoch 82/120\n",
      "313/313 [==============================] - 2s 5ms/step - loss: 0.1579 - acc: 0.9459 - val_loss: 0.2664 - val_acc: 0.9210\n",
      "Epoch 83/120\n",
      "313/313 [==============================] - 2s 5ms/step - loss: 0.1460 - acc: 0.9489 - val_loss: 0.2744 - val_acc: 0.9200\n",
      "Epoch 84/120\n",
      "313/313 [==============================] - 2s 5ms/step - loss: 0.1506 - acc: 0.9462 - val_loss: 0.2676 - val_acc: 0.9190\n",
      "Epoch 85/120\n",
      "313/313 [==============================] - 2s 6ms/step - loss: 0.1346 - acc: 0.9503 - val_loss: 0.2695 - val_acc: 0.9210\n",
      "Epoch 86/120\n",
      "313/313 [==============================] - 2s 5ms/step - loss: 0.1328 - acc: 0.9554 - val_loss: 0.3032 - val_acc: 0.9150\n",
      "Epoch 87/120\n",
      "313/313 [==============================] - 2s 5ms/step - loss: 0.1258 - acc: 0.9569 - val_loss: 0.2600 - val_acc: 0.9230\n",
      "Epoch 88/120\n",
      "313/313 [==============================] - 2s 5ms/step - loss: 0.1301 - acc: 0.9546 - val_loss: 0.2781 - val_acc: 0.9180\n",
      "Epoch 89/120\n",
      "313/313 [==============================] - 2s 6ms/step - loss: 0.1168 - acc: 0.9605 - val_loss: 0.2635 - val_acc: 0.9260\n",
      "Epoch 90/120\n",
      "313/313 [==============================] - 2s 6ms/step - loss: 0.1214 - acc: 0.9581 - val_loss: 0.2581 - val_acc: 0.9320\n",
      "Epoch 91/120\n",
      "313/313 [==============================] - 2s 5ms/step - loss: 0.1194 - acc: 0.9574 - val_loss: 0.2599 - val_acc: 0.9270\n",
      "Epoch 92/120\n",
      "313/313 [==============================] - 2s 5ms/step - loss: 0.1102 - acc: 0.9629 - val_loss: 0.2629 - val_acc: 0.9210\n",
      "Epoch 93/120\n",
      "313/313 [==============================] - 2s 6ms/step - loss: 0.1171 - acc: 0.9580 - val_loss: 0.2661 - val_acc: 0.9160\n",
      "Epoch 94/120\n",
      "313/313 [==============================] - 2s 5ms/step - loss: 0.1071 - acc: 0.9623 - val_loss: 0.2452 - val_acc: 0.9260\n",
      "Epoch 95/120\n",
      "313/313 [==============================] - 2s 6ms/step - loss: 0.0970 - acc: 0.9662 - val_loss: 0.2419 - val_acc: 0.9320\n",
      "Epoch 96/120\n",
      "313/313 [==============================] - 2s 5ms/step - loss: 0.1024 - acc: 0.9628 - val_loss: 0.2577 - val_acc: 0.9290\n",
      "Epoch 97/120\n",
      "313/313 [==============================] - 2s 5ms/step - loss: 0.0986 - acc: 0.9658 - val_loss: 0.2867 - val_acc: 0.9240\n",
      "Epoch 98/120\n",
      "313/313 [==============================] - 2s 5ms/step - loss: 0.0931 - acc: 0.9682 - val_loss: 0.2446 - val_acc: 0.9360\n",
      "Epoch 99/120\n",
      "313/313 [==============================] - 2s 5ms/step - loss: 0.0886 - acc: 0.9702 - val_loss: 0.2856 - val_acc: 0.9300\n",
      "Epoch 100/120\n",
      "313/313 [==============================] - 2s 5ms/step - loss: 0.0884 - acc: 0.9682 - val_loss: 0.2625 - val_acc: 0.9330\n",
      "Epoch 101/120\n",
      "313/313 [==============================] - 2s 5ms/step - loss: 0.0847 - acc: 0.9707 - val_loss: 0.2624 - val_acc: 0.9370\n",
      "Epoch 102/120\n",
      "313/313 [==============================] - 2s 5ms/step - loss: 0.0755 - acc: 0.9742 - val_loss: 0.2502 - val_acc: 0.9310\n",
      "Epoch 103/120\n",
      "313/313 [==============================] - 2s 5ms/step - loss: 0.0869 - acc: 0.9684 - val_loss: 0.2487 - val_acc: 0.9400\n",
      "Epoch 104/120\n",
      "313/313 [==============================] - 2s 5ms/step - loss: 0.0875 - acc: 0.9701 - val_loss: 0.2648 - val_acc: 0.9400\n",
      "Epoch 105/120\n",
      "313/313 [==============================] - 2s 5ms/step - loss: 0.0742 - acc: 0.9748 - val_loss: 0.2665 - val_acc: 0.9340\n",
      "Epoch 106/120\n",
      "313/313 [==============================] - 2s 5ms/step - loss: 0.0794 - acc: 0.9737 - val_loss: 0.2794 - val_acc: 0.9310\n",
      "Epoch 107/120\n",
      "313/313 [==============================] - 2s 5ms/step - loss: 0.0701 - acc: 0.9760 - val_loss: 0.2777 - val_acc: 0.9280\n",
      "Epoch 108/120\n",
      "313/313 [==============================] - 2s 5ms/step - loss: 0.0810 - acc: 0.9712 - val_loss: 0.2703 - val_acc: 0.9270\n",
      "Epoch 109/120\n",
      "313/313 [==============================] - 2s 5ms/step - loss: 0.0714 - acc: 0.9763 - val_loss: 0.2546 - val_acc: 0.9360\n",
      "Epoch 110/120\n",
      "313/313 [==============================] - 2s 5ms/step - loss: 0.0703 - acc: 0.9752 - val_loss: 0.2733 - val_acc: 0.9330\n",
      "Epoch 111/120\n",
      "313/313 [==============================] - 2s 5ms/step - loss: 0.0718 - acc: 0.9774 - val_loss: 0.2692 - val_acc: 0.9340\n",
      "Epoch 112/120\n",
      "313/313 [==============================] - 2s 5ms/step - loss: 0.0702 - acc: 0.9741 - val_loss: 0.2570 - val_acc: 0.9390\n",
      "Epoch 113/120\n",
      "313/313 [==============================] - 2s 5ms/step - loss: 0.0715 - acc: 0.9737 - val_loss: 0.2546 - val_acc: 0.9390\n",
      "Epoch 114/120\n",
      "313/313 [==============================] - 2s 5ms/step - loss: 0.0648 - acc: 0.9785 - val_loss: 0.2683 - val_acc: 0.9350\n",
      "Epoch 115/120\n",
      "313/313 [==============================] - 2s 5ms/step - loss: 0.0610 - acc: 0.9780 - val_loss: 0.2674 - val_acc: 0.9330\n",
      "Epoch 116/120\n",
      "313/313 [==============================] - 2s 5ms/step - loss: 0.0657 - acc: 0.9778 - val_loss: 0.2844 - val_acc: 0.9280\n",
      "Epoch 117/120\n",
      "313/313 [==============================] - 2s 5ms/step - loss: 0.0554 - acc: 0.9816 - val_loss: 0.2871 - val_acc: 0.9280\n",
      "Epoch 118/120\n",
      "313/313 [==============================] - 2s 5ms/step - loss: 0.0570 - acc: 0.9816 - val_loss: 0.2838 - val_acc: 0.9320\n",
      "Epoch 119/120\n",
      "313/313 [==============================] - 2s 5ms/step - loss: 0.0622 - acc: 0.9775 - val_loss: 0.2498 - val_acc: 0.9400\n",
      "Epoch 120/120\n",
      "313/313 [==============================] - 2s 5ms/step - loss: 0.0620 - acc: 0.9788 - val_loss: 0.2703 - val_acc: 0.9350\n"
     ]
    }
   ],
   "source": [
    "# build the final model\n",
    "model = Model([input_sequence, question], answer)\n",
    "model.compile(optimizer='rmsprop', loss='categorical_crossentropy',\n",
    "              metrics=['acc'])\n",
    "\n",
    "print(model.summary())\n",
    "\n",
    "# start training the model\n",
    "history = model.fit([Xstrain, Xqtrain],\n",
    "         Ytrain, batch_size, train_epochs,\n",
    "         validation_data=([Xstest, Xqtest], Ytest))\n",
    "\n",
    "# save model\n",
    "model.save('model.h5')"
   ]
  },
  {
   "cell_type": "code",
   "execution_count": 35,
   "metadata": {},
   "outputs": [
    {
     "output_type": "stream",
     "name": "stdout",
     "text": [
      "32/32 [==============================] - 0s 2ms/step - loss: 0.2703 - acc: 0.9350\n",
      "\n",
      " 테스트 정확도: 93.50%\n"
     ]
    }
   ],
   "source": [
    "print(\"\\n 테스트 정확도: %.2f%%\" % (model.evaluate([Xstest, Xqtest], Ytest)[1]*100))"
   ]
  },
  {
   "cell_type": "code",
   "execution_count": 28,
   "metadata": {},
   "outputs": [
    {
     "output_type": "display_data",
     "data": {
      "text/plain": "<Figure size 432x288 with 2 Axes>",
      "image/svg+xml": "<?xml version=\"1.0\" encoding=\"utf-8\" standalone=\"no\"?>\r\n<!DOCTYPE svg PUBLIC \"-//W3C//DTD SVG 1.1//EN\"\r\n  \"http://www.w3.org/Graphics/SVG/1.1/DTD/svg11.dtd\">\r\n<!-- Created with matplotlib (https://matplotlib.org/) -->\r\n<svg height=\"279.59625pt\" version=\"1.1\" viewBox=\"0 0 424.815625 279.59625\" width=\"424.815625pt\" xmlns=\"http://www.w3.org/2000/svg\" xmlns:xlink=\"http://www.w3.org/1999/xlink\">\r\n <metadata>\r\n  <rdf:RDF xmlns:cc=\"http://creativecommons.org/ns#\" xmlns:dc=\"http://purl.org/dc/elements/1.1/\" xmlns:rdf=\"http://www.w3.org/1999/02/22-rdf-syntax-ns#\">\r\n   <cc:Work>\r\n    <dc:type rdf:resource=\"http://purl.org/dc/dcmitype/StillImage\"/>\r\n    <dc:date>2021-05-24T16:26:37.129225</dc:date>\r\n    <dc:format>image/svg+xml</dc:format>\r\n    <dc:creator>\r\n     <cc:Agent>\r\n      <dc:title>Matplotlib v3.3.4, https://matplotlib.org/</dc:title>\r\n     </cc:Agent>\r\n    </dc:creator>\r\n   </cc:Work>\r\n  </rdf:RDF>\r\n </metadata>\r\n <defs>\r\n  <style type=\"text/css\">*{stroke-linecap:butt;stroke-linejoin:round;}</style>\r\n </defs>\r\n <g id=\"figure_1\">\r\n  <g id=\"patch_1\">\r\n   <path d=\"M -0 279.59625 \r\nL 424.815625 279.59625 \r\nL 424.815625 0 \r\nL -0 0 \r\nz\r\n\" style=\"fill:none;\"/>\r\n  </g>\r\n  <g id=\"axes_1\">\r\n   <g id=\"patch_2\">\r\n    <path d=\"M 36.465625 117.118125 \r\nL 417.615625 117.118125 \r\nL 417.615625 22.318125 \r\nL 36.465625 22.318125 \r\nz\r\n\" style=\"fill:#ffffff;\"/>\r\n   </g>\r\n   <g id=\"matplotlib.axis_1\">\r\n    <g id=\"xtick_1\">\r\n     <g id=\"line2d_1\">\r\n      <defs>\r\n       <path d=\"M 0 0 \r\nL 0 3.5 \r\n\" id=\"m4075540093\" style=\"stroke:#000000;stroke-width:0.8;\"/>\r\n      </defs>\r\n      <g>\r\n       <use style=\"stroke:#000000;stroke-width:0.8;\" x=\"53.790625\" xlink:href=\"#m4075540093\" y=\"117.118125\"/>\r\n      </g>\r\n     </g>\r\n     <g id=\"text_1\">\r\n      <!-- 0 -->\r\n      <g transform=\"translate(50.609375 131.716563)scale(0.1 -0.1)\">\r\n       <defs>\r\n        <path d=\"M 31.78125 66.40625 \r\nQ 24.171875 66.40625 20.328125 58.90625 \r\nQ 16.5 51.421875 16.5 36.375 \r\nQ 16.5 21.390625 20.328125 13.890625 \r\nQ 24.171875 6.390625 31.78125 6.390625 \r\nQ 39.453125 6.390625 43.28125 13.890625 \r\nQ 47.125 21.390625 47.125 36.375 \r\nQ 47.125 51.421875 43.28125 58.90625 \r\nQ 39.453125 66.40625 31.78125 66.40625 \r\nz\r\nM 31.78125 74.21875 \r\nQ 44.046875 74.21875 50.515625 64.515625 \r\nQ 56.984375 54.828125 56.984375 36.375 \r\nQ 56.984375 17.96875 50.515625 8.265625 \r\nQ 44.046875 -1.421875 31.78125 -1.421875 \r\nQ 19.53125 -1.421875 13.0625 8.265625 \r\nQ 6.59375 17.96875 6.59375 36.375 \r\nQ 6.59375 54.828125 13.0625 64.515625 \r\nQ 19.53125 74.21875 31.78125 74.21875 \r\nz\r\n\" id=\"DejaVuSans-48\"/>\r\n       </defs>\r\n       <use xlink:href=\"#DejaVuSans-48\"/>\r\n      </g>\r\n     </g>\r\n    </g>\r\n    <g id=\"xtick_2\">\r\n     <g id=\"line2d_2\">\r\n      <g>\r\n       <use style=\"stroke:#000000;stroke-width:0.8;\" x=\"112.025919\" xlink:href=\"#m4075540093\" y=\"117.118125\"/>\r\n      </g>\r\n     </g>\r\n     <g id=\"text_2\">\r\n      <!-- 20 -->\r\n      <g transform=\"translate(105.663419 131.716563)scale(0.1 -0.1)\">\r\n       <defs>\r\n        <path d=\"M 19.1875 8.296875 \r\nL 53.609375 8.296875 \r\nL 53.609375 0 \r\nL 7.328125 0 \r\nL 7.328125 8.296875 \r\nQ 12.9375 14.109375 22.625 23.890625 \r\nQ 32.328125 33.6875 34.8125 36.53125 \r\nQ 39.546875 41.84375 41.421875 45.53125 \r\nQ 43.3125 49.21875 43.3125 52.78125 \r\nQ 43.3125 58.59375 39.234375 62.25 \r\nQ 35.15625 65.921875 28.609375 65.921875 \r\nQ 23.96875 65.921875 18.8125 64.3125 \r\nQ 13.671875 62.703125 7.8125 59.421875 \r\nL 7.8125 69.390625 \r\nQ 13.765625 71.78125 18.9375 73 \r\nQ 24.125 74.21875 28.421875 74.21875 \r\nQ 39.75 74.21875 46.484375 68.546875 \r\nQ 53.21875 62.890625 53.21875 53.421875 \r\nQ 53.21875 48.921875 51.53125 44.890625 \r\nQ 49.859375 40.875 45.40625 35.40625 \r\nQ 44.1875 33.984375 37.640625 27.21875 \r\nQ 31.109375 20.453125 19.1875 8.296875 \r\nz\r\n\" id=\"DejaVuSans-50\"/>\r\n       </defs>\r\n       <use xlink:href=\"#DejaVuSans-50\"/>\r\n       <use x=\"63.623047\" xlink:href=\"#DejaVuSans-48\"/>\r\n      </g>\r\n     </g>\r\n    </g>\r\n    <g id=\"xtick_3\">\r\n     <g id=\"line2d_3\">\r\n      <g>\r\n       <use style=\"stroke:#000000;stroke-width:0.8;\" x=\"170.261213\" xlink:href=\"#m4075540093\" y=\"117.118125\"/>\r\n      </g>\r\n     </g>\r\n     <g id=\"text_3\">\r\n      <!-- 40 -->\r\n      <g transform=\"translate(163.898713 131.716563)scale(0.1 -0.1)\">\r\n       <defs>\r\n        <path d=\"M 37.796875 64.3125 \r\nL 12.890625 25.390625 \r\nL 37.796875 25.390625 \r\nz\r\nM 35.203125 72.90625 \r\nL 47.609375 72.90625 \r\nL 47.609375 25.390625 \r\nL 58.015625 25.390625 \r\nL 58.015625 17.1875 \r\nL 47.609375 17.1875 \r\nL 47.609375 0 \r\nL 37.796875 0 \r\nL 37.796875 17.1875 \r\nL 4.890625 17.1875 \r\nL 4.890625 26.703125 \r\nz\r\n\" id=\"DejaVuSans-52\"/>\r\n       </defs>\r\n       <use xlink:href=\"#DejaVuSans-52\"/>\r\n       <use x=\"63.623047\" xlink:href=\"#DejaVuSans-48\"/>\r\n      </g>\r\n     </g>\r\n    </g>\r\n    <g id=\"xtick_4\">\r\n     <g id=\"line2d_4\">\r\n      <g>\r\n       <use style=\"stroke:#000000;stroke-width:0.8;\" x=\"228.496507\" xlink:href=\"#m4075540093\" y=\"117.118125\"/>\r\n      </g>\r\n     </g>\r\n     <g id=\"text_4\">\r\n      <!-- 60 -->\r\n      <g transform=\"translate(222.134007 131.716563)scale(0.1 -0.1)\">\r\n       <defs>\r\n        <path d=\"M 33.015625 40.375 \r\nQ 26.375 40.375 22.484375 35.828125 \r\nQ 18.609375 31.296875 18.609375 23.390625 \r\nQ 18.609375 15.53125 22.484375 10.953125 \r\nQ 26.375 6.390625 33.015625 6.390625 \r\nQ 39.65625 6.390625 43.53125 10.953125 \r\nQ 47.40625 15.53125 47.40625 23.390625 \r\nQ 47.40625 31.296875 43.53125 35.828125 \r\nQ 39.65625 40.375 33.015625 40.375 \r\nz\r\nM 52.59375 71.296875 \r\nL 52.59375 62.3125 \r\nQ 48.875 64.0625 45.09375 64.984375 \r\nQ 41.3125 65.921875 37.59375 65.921875 \r\nQ 27.828125 65.921875 22.671875 59.328125 \r\nQ 17.53125 52.734375 16.796875 39.40625 \r\nQ 19.671875 43.65625 24.015625 45.921875 \r\nQ 28.375 48.1875 33.59375 48.1875 \r\nQ 44.578125 48.1875 50.953125 41.515625 \r\nQ 57.328125 34.859375 57.328125 23.390625 \r\nQ 57.328125 12.15625 50.6875 5.359375 \r\nQ 44.046875 -1.421875 33.015625 -1.421875 \r\nQ 20.359375 -1.421875 13.671875 8.265625 \r\nQ 6.984375 17.96875 6.984375 36.375 \r\nQ 6.984375 53.65625 15.1875 63.9375 \r\nQ 23.390625 74.21875 37.203125 74.21875 \r\nQ 40.921875 74.21875 44.703125 73.484375 \r\nQ 48.484375 72.75 52.59375 71.296875 \r\nz\r\n\" id=\"DejaVuSans-54\"/>\r\n       </defs>\r\n       <use xlink:href=\"#DejaVuSans-54\"/>\r\n       <use x=\"63.623047\" xlink:href=\"#DejaVuSans-48\"/>\r\n      </g>\r\n     </g>\r\n    </g>\r\n    <g id=\"xtick_5\">\r\n     <g id=\"line2d_5\">\r\n      <g>\r\n       <use style=\"stroke:#000000;stroke-width:0.8;\" x=\"286.731801\" xlink:href=\"#m4075540093\" y=\"117.118125\"/>\r\n      </g>\r\n     </g>\r\n     <g id=\"text_5\">\r\n      <!-- 80 -->\r\n      <g transform=\"translate(280.369301 131.716563)scale(0.1 -0.1)\">\r\n       <defs>\r\n        <path d=\"M 31.78125 34.625 \r\nQ 24.75 34.625 20.71875 30.859375 \r\nQ 16.703125 27.09375 16.703125 20.515625 \r\nQ 16.703125 13.921875 20.71875 10.15625 \r\nQ 24.75 6.390625 31.78125 6.390625 \r\nQ 38.8125 6.390625 42.859375 10.171875 \r\nQ 46.921875 13.96875 46.921875 20.515625 \r\nQ 46.921875 27.09375 42.890625 30.859375 \r\nQ 38.875 34.625 31.78125 34.625 \r\nz\r\nM 21.921875 38.8125 \r\nQ 15.578125 40.375 12.03125 44.71875 \r\nQ 8.5 49.078125 8.5 55.328125 \r\nQ 8.5 64.0625 14.71875 69.140625 \r\nQ 20.953125 74.21875 31.78125 74.21875 \r\nQ 42.671875 74.21875 48.875 69.140625 \r\nQ 55.078125 64.0625 55.078125 55.328125 \r\nQ 55.078125 49.078125 51.53125 44.71875 \r\nQ 48 40.375 41.703125 38.8125 \r\nQ 48.828125 37.15625 52.796875 32.3125 \r\nQ 56.78125 27.484375 56.78125 20.515625 \r\nQ 56.78125 9.90625 50.3125 4.234375 \r\nQ 43.84375 -1.421875 31.78125 -1.421875 \r\nQ 19.734375 -1.421875 13.25 4.234375 \r\nQ 6.78125 9.90625 6.78125 20.515625 \r\nQ 6.78125 27.484375 10.78125 32.3125 \r\nQ 14.796875 37.15625 21.921875 38.8125 \r\nz\r\nM 18.3125 54.390625 \r\nQ 18.3125 48.734375 21.84375 45.5625 \r\nQ 25.390625 42.390625 31.78125 42.390625 \r\nQ 38.140625 42.390625 41.71875 45.5625 \r\nQ 45.3125 48.734375 45.3125 54.390625 \r\nQ 45.3125 60.0625 41.71875 63.234375 \r\nQ 38.140625 66.40625 31.78125 66.40625 \r\nQ 25.390625 66.40625 21.84375 63.234375 \r\nQ 18.3125 60.0625 18.3125 54.390625 \r\nz\r\n\" id=\"DejaVuSans-56\"/>\r\n       </defs>\r\n       <use xlink:href=\"#DejaVuSans-56\"/>\r\n       <use x=\"63.623047\" xlink:href=\"#DejaVuSans-48\"/>\r\n      </g>\r\n     </g>\r\n    </g>\r\n    <g id=\"xtick_6\">\r\n     <g id=\"line2d_6\">\r\n      <g>\r\n       <use style=\"stroke:#000000;stroke-width:0.8;\" x=\"344.967096\" xlink:href=\"#m4075540093\" y=\"117.118125\"/>\r\n      </g>\r\n     </g>\r\n     <g id=\"text_6\">\r\n      <!-- 100 -->\r\n      <g transform=\"translate(335.423346 131.716563)scale(0.1 -0.1)\">\r\n       <defs>\r\n        <path d=\"M 12.40625 8.296875 \r\nL 28.515625 8.296875 \r\nL 28.515625 63.921875 \r\nL 10.984375 60.40625 \r\nL 10.984375 69.390625 \r\nL 28.421875 72.90625 \r\nL 38.28125 72.90625 \r\nL 38.28125 8.296875 \r\nL 54.390625 8.296875 \r\nL 54.390625 0 \r\nL 12.40625 0 \r\nz\r\n\" id=\"DejaVuSans-49\"/>\r\n       </defs>\r\n       <use xlink:href=\"#DejaVuSans-49\"/>\r\n       <use x=\"63.623047\" xlink:href=\"#DejaVuSans-48\"/>\r\n       <use x=\"127.246094\" xlink:href=\"#DejaVuSans-48\"/>\r\n      </g>\r\n     </g>\r\n    </g>\r\n    <g id=\"xtick_7\">\r\n     <g id=\"line2d_7\">\r\n      <g>\r\n       <use style=\"stroke:#000000;stroke-width:0.8;\" x=\"403.20239\" xlink:href=\"#m4075540093\" y=\"117.118125\"/>\r\n      </g>\r\n     </g>\r\n     <g id=\"text_7\">\r\n      <!-- 120 -->\r\n      <g transform=\"translate(393.65864 131.716563)scale(0.1 -0.1)\">\r\n       <use xlink:href=\"#DejaVuSans-49\"/>\r\n       <use x=\"63.623047\" xlink:href=\"#DejaVuSans-50\"/>\r\n       <use x=\"127.246094\" xlink:href=\"#DejaVuSans-48\"/>\r\n      </g>\r\n     </g>\r\n    </g>\r\n   </g>\r\n   <g id=\"matplotlib.axis_2\">\r\n    <g id=\"ytick_1\">\r\n     <g id=\"line2d_8\">\r\n      <defs>\r\n       <path d=\"M 0 0 \r\nL -3.5 0 \r\n\" id=\"m99f5c3bbad\" style=\"stroke:#000000;stroke-width:0.8;\"/>\r\n      </defs>\r\n      <g>\r\n       <use style=\"stroke:#000000;stroke-width:0.8;\" x=\"36.465625\" xlink:href=\"#m99f5c3bbad\" y=\"104.443419\"/>\r\n      </g>\r\n     </g>\r\n     <g id=\"text_8\">\r\n      <!-- 0.25 -->\r\n      <g transform=\"translate(7.2 108.242638)scale(0.1 -0.1)\">\r\n       <defs>\r\n        <path d=\"M 10.6875 12.40625 \r\nL 21 12.40625 \r\nL 21 0 \r\nL 10.6875 0 \r\nz\r\n\" id=\"DejaVuSans-46\"/>\r\n        <path d=\"M 10.796875 72.90625 \r\nL 49.515625 72.90625 \r\nL 49.515625 64.59375 \r\nL 19.828125 64.59375 \r\nL 19.828125 46.734375 \r\nQ 21.96875 47.46875 24.109375 47.828125 \r\nQ 26.265625 48.1875 28.421875 48.1875 \r\nQ 40.625 48.1875 47.75 41.5 \r\nQ 54.890625 34.8125 54.890625 23.390625 \r\nQ 54.890625 11.625 47.5625 5.09375 \r\nQ 40.234375 -1.421875 26.90625 -1.421875 \r\nQ 22.3125 -1.421875 17.546875 -0.640625 \r\nQ 12.796875 0.140625 7.71875 1.703125 \r\nL 7.71875 11.625 \r\nQ 12.109375 9.234375 16.796875 8.0625 \r\nQ 21.484375 6.890625 26.703125 6.890625 \r\nQ 35.15625 6.890625 40.078125 11.328125 \r\nQ 45.015625 15.765625 45.015625 23.390625 \r\nQ 45.015625 31 40.078125 35.4375 \r\nQ 35.15625 39.890625 26.703125 39.890625 \r\nQ 22.75 39.890625 18.8125 39.015625 \r\nQ 14.890625 38.140625 10.796875 36.28125 \r\nz\r\n\" id=\"DejaVuSans-53\"/>\r\n       </defs>\r\n       <use xlink:href=\"#DejaVuSans-48\"/>\r\n       <use x=\"63.623047\" xlink:href=\"#DejaVuSans-46\"/>\r\n       <use x=\"95.410156\" xlink:href=\"#DejaVuSans-50\"/>\r\n       <use x=\"159.033203\" xlink:href=\"#DejaVuSans-53\"/>\r\n      </g>\r\n     </g>\r\n    </g>\r\n    <g id=\"ytick_2\">\r\n     <g id=\"line2d_9\">\r\n      <g>\r\n       <use style=\"stroke:#000000;stroke-width:0.8;\" x=\"36.465625\" xlink:href=\"#m99f5c3bbad\" y=\"77.801333\"/>\r\n      </g>\r\n     </g>\r\n     <g id=\"text_9\">\r\n      <!-- 0.50 -->\r\n      <g transform=\"translate(7.2 81.600552)scale(0.1 -0.1)\">\r\n       <use xlink:href=\"#DejaVuSans-48\"/>\r\n       <use x=\"63.623047\" xlink:href=\"#DejaVuSans-46\"/>\r\n       <use x=\"95.410156\" xlink:href=\"#DejaVuSans-53\"/>\r\n       <use x=\"159.033203\" xlink:href=\"#DejaVuSans-48\"/>\r\n      </g>\r\n     </g>\r\n    </g>\r\n    <g id=\"ytick_3\">\r\n     <g id=\"line2d_10\">\r\n      <g>\r\n       <use style=\"stroke:#000000;stroke-width:0.8;\" x=\"36.465625\" xlink:href=\"#m99f5c3bbad\" y=\"51.159248\"/>\r\n      </g>\r\n     </g>\r\n     <g id=\"text_10\">\r\n      <!-- 0.75 -->\r\n      <g transform=\"translate(7.2 54.958466)scale(0.1 -0.1)\">\r\n       <defs>\r\n        <path d=\"M 8.203125 72.90625 \r\nL 55.078125 72.90625 \r\nL 55.078125 68.703125 \r\nL 28.609375 0 \r\nL 18.3125 0 \r\nL 43.21875 64.59375 \r\nL 8.203125 64.59375 \r\nz\r\n\" id=\"DejaVuSans-55\"/>\r\n       </defs>\r\n       <use xlink:href=\"#DejaVuSans-48\"/>\r\n       <use x=\"63.623047\" xlink:href=\"#DejaVuSans-46\"/>\r\n       <use x=\"95.410156\" xlink:href=\"#DejaVuSans-55\"/>\r\n       <use x=\"159.033203\" xlink:href=\"#DejaVuSans-53\"/>\r\n      </g>\r\n     </g>\r\n    </g>\r\n    <g id=\"ytick_4\">\r\n     <g id=\"line2d_11\">\r\n      <g>\r\n       <use style=\"stroke:#000000;stroke-width:0.8;\" x=\"36.465625\" xlink:href=\"#m99f5c3bbad\" y=\"24.517162\"/>\r\n      </g>\r\n     </g>\r\n     <g id=\"text_11\">\r\n      <!-- 1.00 -->\r\n      <g transform=\"translate(7.2 28.316381)scale(0.1 -0.1)\">\r\n       <use xlink:href=\"#DejaVuSans-49\"/>\r\n       <use x=\"63.623047\" xlink:href=\"#DejaVuSans-46\"/>\r\n       <use x=\"95.410156\" xlink:href=\"#DejaVuSans-48\"/>\r\n       <use x=\"159.033203\" xlink:href=\"#DejaVuSans-48\"/>\r\n      </g>\r\n     </g>\r\n    </g>\r\n   </g>\r\n   <g id=\"line2d_12\">\r\n    <path clip-path=\"url(#pe2742062cf)\" d=\"M 53.790625 112.809034 \r\nL 56.70239 105.541072 \r\nL 59.614154 99.722442 \r\nL 62.525919 92.955351 \r\nL 65.437684 88.447511 \r\nL 68.349449 84.461855 \r\nL 71.261213 83.023182 \r\nL 74.172978 81.659106 \r\nL 77.084743 82.22392 \r\nL 79.996507 80.881158 \r\nL 82.908272 80.934442 \r\nL 85.820037 80.263061 \r\nL 88.731801 79.762192 \r\nL 91.643566 79.090811 \r\nL 94.555331 78.4514 \r\nL 97.467096 78.930958 \r\nL 100.37886 78.003812 \r\nL 103.290625 77.726736 \r\nL 106.20239 77.513602 \r\nL 109.114154 77.09798 \r\nL 112.025919 76.117554 \r\nL 114.937684 76.20281 \r\nL 117.849449 75.083841 \r\nL 120.761213 74.476402 \r\nL 123.672978 72.771305 \r\nL 126.584743 68.945502 \r\nL 129.496507 65.32218 \r\nL 132.408272 62.498121 \r\nL 135.320037 59.652744 \r\nL 138.231801 56.967221 \r\nL 141.143566 55.155563 \r\nL 144.055331 54.015277 \r\nL 146.967096 52.864338 \r\nL 149.87886 51.660119 \r\nL 152.790625 50.722315 \r\nL 155.70239 49.219706 \r\nL 158.614154 48.207304 \r\nL 161.525919 46.971109 \r\nL 164.437684 45.639006 \r\nL 167.349449 45.297988 \r\nL 170.261213 43.678147 \r\nL 173.172978 42.72969 \r\nL 176.084743 42.218166 \r\nL 178.996507 41.461526 \r\nL 181.908272 40.491759 \r\nL 184.820037 40.800807 \r\nL 187.731801 39.96957 \r\nL 190.643566 39.490015 \r\nL 193.555331 39.021113 \r\nL 196.467096 38.637467 \r\nL 199.37886 38.328418 \r\nL 202.290625 37.95543 \r\nL 205.20239 37.571784 \r\nL 208.114154 37.784918 \r\nL 211.025919 37.252077 \r\nL 213.937684 36.410187 \r\nL 216.849449 36.463474 \r\nL 219.761213 36.346248 \r\nL 222.672978 36.079828 \r\nL 225.584743 35.312535 \r\nL 228.496507 35.440419 \r\nL 231.408272 34.769035 \r\nL 234.320037 34.726407 \r\nL 237.231801 34.236194 \r\nL 240.143566 34.02306 \r\nL 243.055331 33.660725 \r\nL 245.967096 33.394304 \r\nL 248.87886 33.159853 \r\nL 251.790625 32.96803 \r\nL 254.70239 32.744238 \r\nL 257.614154 32.786866 \r\nL 260.525919 32.328622 \r\nL 263.437684 31.966287 \r\nL 266.349449 31.56133 \r\nL 269.261213 32.083512 \r\nL 272.172978 31.28425 \r\nL 275.084743 31.188342 \r\nL 277.996507 31.039147 \r\nL 280.908272 30.889952 \r\nL 283.820037 30.602214 \r\nL 286.731801 30.495647 \r\nL 289.643566 30.357104 \r\nL 292.555331 30.261196 \r\nL 295.467096 30.14397 \r\nL 298.37886 29.898861 \r\nL 301.290625 29.675068 \r\nL 304.20239 29.206172 \r\nL 307.114154 29.344709 \r\nL 310.025919 29.025001 \r\nL 312.937684 28.939745 \r\nL 315.849449 28.993032 \r\nL 318.761213 28.811867 \r\nL 321.672978 28.929093 \r\nL 324.584743 28.556099 \r\nL 327.496507 28.321654 \r\nL 330.408272 28.620044 \r\nL 333.320037 28.310996 \r\nL 336.231801 28.332306 \r\nL 339.143566 27.884721 \r\nL 342.055331 28.065886 \r\nL 344.967096 27.820782 \r\nL 347.87886 27.533045 \r\nL 350.790625 27.831435 \r\nL 353.70239 27.703557 \r\nL 356.614154 27.607642 \r\nL 359.525919 27.405167 \r\nL 362.437684 27.181368 \r\nL 365.349449 27.35188 \r\nL 368.261213 27.341222 \r\nL 371.172978 27.405167 \r\nL 374.084743 27.149399 \r\nL 376.996507 27.266624 \r\nL 379.908272 27.245313 \r\nL 382.820037 27.128088 \r\nL 385.731801 27.192027 \r\nL 388.643566 26.893637 \r\nL 391.555331 26.627216 \r\nL 394.467096 26.680496 \r\nL 397.37886 26.914947 \r\nL 400.290625 26.78707 \r\n\" style=\"fill:none;stroke:#008000;stroke-linecap:square;stroke-width:1.5;\"/>\r\n   </g>\r\n   <g id=\"line2d_13\">\r\n    <path clip-path=\"url(#pe2742062cf)\" d=\"M 53.790625 104.230282 \r\nL 56.70239 105.509103 \r\nL 59.614154 92.188058 \r\nL 62.525919 90.163261 \r\nL 65.437684 87.285914 \r\nL 68.349449 83.342886 \r\nL 71.261213 83.236319 \r\nL 74.172978 82.277203 \r\nL 77.084743 81.318088 \r\nL 79.996507 81.318088 \r\nL 82.908272 83.129752 \r\nL 85.820037 80.465542 \r\nL 88.731801 77.588199 \r\nL 91.643566 77.055352 \r\nL 94.555331 75.137127 \r\nL 97.467096 74.81742 \r\nL 100.37886 75.137127 \r\nL 103.290625 75.883102 \r\nL 106.20239 74.391146 \r\nL 109.114154 76.629084 \r\nL 112.025919 74.923987 \r\nL 114.937684 73.858305 \r\nL 117.849449 72.366348 \r\nL 120.761213 70.554684 \r\nL 123.672978 69.062727 \r\nL 126.584743 62.988334 \r\nL 129.496507 60.217554 \r\nL 132.408272 58.299324 \r\nL 135.320037 56.807367 \r\nL 138.231801 52.43807 \r\nL 141.143566 52.651204 \r\nL 144.055331 52.011796 \r\nL 146.967096 50.413266 \r\nL 149.87886 50.732973 \r\nL 152.790625 49.454157 \r\nL 155.70239 47.855627 \r\nL 158.614154 47.216219 \r\nL 161.525919 46.257103 \r\nL 164.437684 45.830829 \r\nL 167.349449 45.191421 \r\nL 170.261213 43.699464 \r\nL 173.172978 44.232306 \r\nL 176.084743 42.633782 \r\nL 178.996507 41.354959 \r\nL 181.908272 41.674667 \r\nL 184.820037 40.608984 \r\nL 187.731801 39.863003 \r\nL 190.643566 40.289277 \r\nL 193.555331 40.18271 \r\nL 196.467096 39.863003 \r\nL 199.37886 39.223594 \r\nL 202.290625 38.79732 \r\nL 205.20239 39.756436 \r\nL 208.114154 39.223594 \r\nL 211.025919 39.756436 \r\nL 213.937684 38.79732 \r\nL 216.849449 37.944772 \r\nL 219.761213 38.477613 \r\nL 222.672978 38.157912 \r\nL 225.584743 37.625071 \r\nL 228.496507 38.051339 \r\nL 231.408272 36.985656 \r\nL 234.320037 36.346248 \r\nL 237.231801 36.772522 \r\nL 240.143566 36.133114 \r\nL 243.055331 36.772522 \r\nL 245.967096 35.387133 \r\nL 248.87886 36.239681 \r\nL 251.790625 35.813407 \r\nL 254.70239 36.559382 \r\nL 257.614154 35.067425 \r\nL 260.525919 34.960858 \r\nL 263.437684 34.10831 \r\nL 266.349449 35.387133 \r\nL 269.261213 34.32145 \r\nL 272.172978 35.280566 \r\nL 275.084743 34.10831 \r\nL 277.996507 33.362335 \r\nL 280.908272 33.149195 \r\nL 283.820037 33.895176 \r\nL 286.731801 33.362335 \r\nL 289.643566 32.936061 \r\nL 292.555331 33.042628 \r\nL 295.467096 33.149195 \r\nL 298.37886 32.936061 \r\nL 301.290625 33.575469 \r\nL 304.20239 32.722927 \r\nL 307.114154 33.255768 \r\nL 310.025919 32.403219 \r\nL 312.937684 31.763811 \r\nL 315.849449 32.296652 \r\nL 318.761213 32.936061 \r\nL 321.672978 33.468902 \r\nL 324.584743 32.403219 \r\nL 327.496507 31.763811 \r\nL 330.408272 32.083512 \r\nL 333.320037 32.616353 \r\nL 336.231801 31.337537 \r\nL 339.143566 31.976945 \r\nL 342.055331 31.657238 \r\nL 344.967096 31.23097 \r\nL 347.87886 31.870378 \r\nL 350.790625 30.911263 \r\nL 353.70239 30.911263 \r\nL 356.614154 31.550671 \r\nL 359.525919 31.870378 \r\nL 362.437684 32.190085 \r\nL 365.349449 32.296652 \r\nL 368.261213 31.337537 \r\nL 371.172978 31.657238 \r\nL 374.084743 31.550671 \r\nL 376.996507 31.01783 \r\nL 379.908272 31.01783 \r\nL 382.820037 31.444104 \r\nL 385.731801 31.657238 \r\nL 388.643566 32.190085 \r\nL 391.555331 32.190085 \r\nL 394.467096 31.763811 \r\nL 397.37886 30.911263 \r\nL 400.290625 31.444104 \r\n\" style=\"fill:none;stroke:#0000ff;stroke-linecap:square;stroke-width:1.5;\"/>\r\n   </g>\r\n   <g id=\"patch_3\">\r\n    <path d=\"M 36.465625 117.118125 \r\nL 36.465625 22.318125 \r\n\" style=\"fill:none;stroke:#000000;stroke-linecap:square;stroke-linejoin:miter;stroke-width:0.8;\"/>\r\n   </g>\r\n   <g id=\"patch_4\">\r\n    <path d=\"M 417.615625 117.118125 \r\nL 417.615625 22.318125 \r\n\" style=\"fill:none;stroke:#000000;stroke-linecap:square;stroke-linejoin:miter;stroke-width:0.8;\"/>\r\n   </g>\r\n   <g id=\"patch_5\">\r\n    <path d=\"M 36.465625 117.118125 \r\nL 417.615625 117.118125 \r\n\" style=\"fill:none;stroke:#000000;stroke-linecap:square;stroke-linejoin:miter;stroke-width:0.8;\"/>\r\n   </g>\r\n   <g id=\"patch_6\">\r\n    <path d=\"M 36.465625 22.318125 \r\nL 417.615625 22.318125 \r\n\" style=\"fill:none;stroke:#000000;stroke-linecap:square;stroke-linejoin:miter;stroke-width:0.8;\"/>\r\n   </g>\r\n   <g id=\"text_12\">\r\n    <!-- Accuracy -->\r\n    <g transform=\"translate(199.646875 16.318125)scale(0.12 -0.12)\">\r\n     <defs>\r\n      <path d=\"M 34.1875 63.1875 \r\nL 20.796875 26.90625 \r\nL 47.609375 26.90625 \r\nz\r\nM 28.609375 72.90625 \r\nL 39.796875 72.90625 \r\nL 67.578125 0 \r\nL 57.328125 0 \r\nL 50.6875 18.703125 \r\nL 17.828125 18.703125 \r\nL 11.1875 0 \r\nL 0.78125 0 \r\nz\r\n\" id=\"DejaVuSans-65\"/>\r\n      <path d=\"M 48.78125 52.59375 \r\nL 48.78125 44.1875 \r\nQ 44.96875 46.296875 41.140625 47.34375 \r\nQ 37.3125 48.390625 33.40625 48.390625 \r\nQ 24.65625 48.390625 19.8125 42.84375 \r\nQ 14.984375 37.3125 14.984375 27.296875 \r\nQ 14.984375 17.28125 19.8125 11.734375 \r\nQ 24.65625 6.203125 33.40625 6.203125 \r\nQ 37.3125 6.203125 41.140625 7.25 \r\nQ 44.96875 8.296875 48.78125 10.40625 \r\nL 48.78125 2.09375 \r\nQ 45.015625 0.34375 40.984375 -0.53125 \r\nQ 36.96875 -1.421875 32.421875 -1.421875 \r\nQ 20.0625 -1.421875 12.78125 6.34375 \r\nQ 5.515625 14.109375 5.515625 27.296875 \r\nQ 5.515625 40.671875 12.859375 48.328125 \r\nQ 20.21875 56 33.015625 56 \r\nQ 37.15625 56 41.109375 55.140625 \r\nQ 45.0625 54.296875 48.78125 52.59375 \r\nz\r\n\" id=\"DejaVuSans-99\"/>\r\n      <path d=\"M 8.5 21.578125 \r\nL 8.5 54.6875 \r\nL 17.484375 54.6875 \r\nL 17.484375 21.921875 \r\nQ 17.484375 14.15625 20.5 10.265625 \r\nQ 23.53125 6.390625 29.59375 6.390625 \r\nQ 36.859375 6.390625 41.078125 11.03125 \r\nQ 45.3125 15.671875 45.3125 23.6875 \r\nL 45.3125 54.6875 \r\nL 54.296875 54.6875 \r\nL 54.296875 0 \r\nL 45.3125 0 \r\nL 45.3125 8.40625 \r\nQ 42.046875 3.421875 37.71875 1 \r\nQ 33.40625 -1.421875 27.6875 -1.421875 \r\nQ 18.265625 -1.421875 13.375 4.4375 \r\nQ 8.5 10.296875 8.5 21.578125 \r\nz\r\nM 31.109375 56 \r\nz\r\n\" id=\"DejaVuSans-117\"/>\r\n      <path d=\"M 41.109375 46.296875 \r\nQ 39.59375 47.171875 37.8125 47.578125 \r\nQ 36.03125 48 33.890625 48 \r\nQ 26.265625 48 22.1875 43.046875 \r\nQ 18.109375 38.09375 18.109375 28.8125 \r\nL 18.109375 0 \r\nL 9.078125 0 \r\nL 9.078125 54.6875 \r\nL 18.109375 54.6875 \r\nL 18.109375 46.1875 \r\nQ 20.953125 51.171875 25.484375 53.578125 \r\nQ 30.03125 56 36.53125 56 \r\nQ 37.453125 56 38.578125 55.875 \r\nQ 39.703125 55.765625 41.0625 55.515625 \r\nz\r\n\" id=\"DejaVuSans-114\"/>\r\n      <path d=\"M 34.28125 27.484375 \r\nQ 23.390625 27.484375 19.1875 25 \r\nQ 14.984375 22.515625 14.984375 16.5 \r\nQ 14.984375 11.71875 18.140625 8.90625 \r\nQ 21.296875 6.109375 26.703125 6.109375 \r\nQ 34.1875 6.109375 38.703125 11.40625 \r\nQ 43.21875 16.703125 43.21875 25.484375 \r\nL 43.21875 27.484375 \r\nz\r\nM 52.203125 31.203125 \r\nL 52.203125 0 \r\nL 43.21875 0 \r\nL 43.21875 8.296875 \r\nQ 40.140625 3.328125 35.546875 0.953125 \r\nQ 30.953125 -1.421875 24.3125 -1.421875 \r\nQ 15.921875 -1.421875 10.953125 3.296875 \r\nQ 6 8.015625 6 15.921875 \r\nQ 6 25.140625 12.171875 29.828125 \r\nQ 18.359375 34.515625 30.609375 34.515625 \r\nL 43.21875 34.515625 \r\nL 43.21875 35.40625 \r\nQ 43.21875 41.609375 39.140625 45 \r\nQ 35.0625 48.390625 27.6875 48.390625 \r\nQ 23 48.390625 18.546875 47.265625 \r\nQ 14.109375 46.140625 10.015625 43.890625 \r\nL 10.015625 52.203125 \r\nQ 14.9375 54.109375 19.578125 55.046875 \r\nQ 24.21875 56 28.609375 56 \r\nQ 40.484375 56 46.34375 49.84375 \r\nQ 52.203125 43.703125 52.203125 31.203125 \r\nz\r\n\" id=\"DejaVuSans-97\"/>\r\n      <path d=\"M 32.171875 -5.078125 \r\nQ 28.375 -14.84375 24.75 -17.8125 \r\nQ 21.140625 -20.796875 15.09375 -20.796875 \r\nL 7.90625 -20.796875 \r\nL 7.90625 -13.28125 \r\nL 13.1875 -13.28125 \r\nQ 16.890625 -13.28125 18.9375 -11.515625 \r\nQ 21 -9.765625 23.484375 -3.21875 \r\nL 25.09375 0.875 \r\nL 2.984375 54.6875 \r\nL 12.5 54.6875 \r\nL 29.59375 11.921875 \r\nL 46.6875 54.6875 \r\nL 56.203125 54.6875 \r\nz\r\n\" id=\"DejaVuSans-121\"/>\r\n     </defs>\r\n     <use xlink:href=\"#DejaVuSans-65\"/>\r\n     <use x=\"66.658203\" xlink:href=\"#DejaVuSans-99\"/>\r\n     <use x=\"121.638672\" xlink:href=\"#DejaVuSans-99\"/>\r\n     <use x=\"176.619141\" xlink:href=\"#DejaVuSans-117\"/>\r\n     <use x=\"239.998047\" xlink:href=\"#DejaVuSans-114\"/>\r\n     <use x=\"281.111328\" xlink:href=\"#DejaVuSans-97\"/>\r\n     <use x=\"342.390625\" xlink:href=\"#DejaVuSans-99\"/>\r\n     <use x=\"397.371094\" xlink:href=\"#DejaVuSans-121\"/>\r\n    </g>\r\n   </g>\r\n   <g id=\"legend_1\">\r\n    <g id=\"patch_7\">\r\n     <path d=\"M 43.465625 59.674375 \r\nL 124.7 59.674375 \r\nQ 126.7 59.674375 126.7 57.674375 \r\nL 126.7 29.318125 \r\nQ 126.7 27.318125 124.7 27.318125 \r\nL 43.465625 27.318125 \r\nQ 41.465625 27.318125 41.465625 29.318125 \r\nL 41.465625 57.674375 \r\nQ 41.465625 59.674375 43.465625 59.674375 \r\nz\r\n\" style=\"fill:#ffffff;opacity:0.8;stroke:#cccccc;stroke-linejoin:miter;\"/>\r\n    </g>\r\n    <g id=\"line2d_14\">\r\n     <path d=\"M 45.465625 35.416562 \r\nL 65.465625 35.416562 \r\n\" style=\"fill:none;stroke:#008000;stroke-linecap:square;stroke-width:1.5;\"/>\r\n    </g>\r\n    <g id=\"line2d_15\"/>\r\n    <g id=\"text_13\">\r\n     <!-- train -->\r\n     <g transform=\"translate(73.465625 38.916562)scale(0.1 -0.1)\">\r\n      <defs>\r\n       <path d=\"M 18.3125 70.21875 \r\nL 18.3125 54.6875 \r\nL 36.8125 54.6875 \r\nL 36.8125 47.703125 \r\nL 18.3125 47.703125 \r\nL 18.3125 18.015625 \r\nQ 18.3125 11.328125 20.140625 9.421875 \r\nQ 21.96875 7.515625 27.59375 7.515625 \r\nL 36.8125 7.515625 \r\nL 36.8125 0 \r\nL 27.59375 0 \r\nQ 17.1875 0 13.234375 3.875 \r\nQ 9.28125 7.765625 9.28125 18.015625 \r\nL 9.28125 47.703125 \r\nL 2.6875 47.703125 \r\nL 2.6875 54.6875 \r\nL 9.28125 54.6875 \r\nL 9.28125 70.21875 \r\nz\r\n\" id=\"DejaVuSans-116\"/>\r\n       <path d=\"M 9.421875 54.6875 \r\nL 18.40625 54.6875 \r\nL 18.40625 0 \r\nL 9.421875 0 \r\nz\r\nM 9.421875 75.984375 \r\nL 18.40625 75.984375 \r\nL 18.40625 64.59375 \r\nL 9.421875 64.59375 \r\nz\r\n\" id=\"DejaVuSans-105\"/>\r\n       <path d=\"M 54.890625 33.015625 \r\nL 54.890625 0 \r\nL 45.90625 0 \r\nL 45.90625 32.71875 \r\nQ 45.90625 40.484375 42.875 44.328125 \r\nQ 39.84375 48.1875 33.796875 48.1875 \r\nQ 26.515625 48.1875 22.3125 43.546875 \r\nQ 18.109375 38.921875 18.109375 30.90625 \r\nL 18.109375 0 \r\nL 9.078125 0 \r\nL 9.078125 54.6875 \r\nL 18.109375 54.6875 \r\nL 18.109375 46.1875 \r\nQ 21.34375 51.125 25.703125 53.5625 \r\nQ 30.078125 56 35.796875 56 \r\nQ 45.21875 56 50.046875 50.171875 \r\nQ 54.890625 44.34375 54.890625 33.015625 \r\nz\r\n\" id=\"DejaVuSans-110\"/>\r\n      </defs>\r\n      <use xlink:href=\"#DejaVuSans-116\"/>\r\n      <use x=\"39.208984\" xlink:href=\"#DejaVuSans-114\"/>\r\n      <use x=\"80.322266\" xlink:href=\"#DejaVuSans-97\"/>\r\n      <use x=\"141.601562\" xlink:href=\"#DejaVuSans-105\"/>\r\n      <use x=\"169.384766\" xlink:href=\"#DejaVuSans-110\"/>\r\n     </g>\r\n    </g>\r\n    <g id=\"line2d_16\">\r\n     <path d=\"M 45.465625 50.094687 \r\nL 65.465625 50.094687 \r\n\" style=\"fill:none;stroke:#0000ff;stroke-linecap:square;stroke-width:1.5;\"/>\r\n    </g>\r\n    <g id=\"line2d_17\"/>\r\n    <g id=\"text_14\">\r\n     <!-- validation -->\r\n     <g transform=\"translate(73.465625 53.594687)scale(0.1 -0.1)\">\r\n      <defs>\r\n       <path d=\"M 2.984375 54.6875 \r\nL 12.5 54.6875 \r\nL 29.59375 8.796875 \r\nL 46.6875 54.6875 \r\nL 56.203125 54.6875 \r\nL 35.6875 0 \r\nL 23.484375 0 \r\nz\r\n\" id=\"DejaVuSans-118\"/>\r\n       <path d=\"M 9.421875 75.984375 \r\nL 18.40625 75.984375 \r\nL 18.40625 0 \r\nL 9.421875 0 \r\nz\r\n\" id=\"DejaVuSans-108\"/>\r\n       <path d=\"M 45.40625 46.390625 \r\nL 45.40625 75.984375 \r\nL 54.390625 75.984375 \r\nL 54.390625 0 \r\nL 45.40625 0 \r\nL 45.40625 8.203125 \r\nQ 42.578125 3.328125 38.25 0.953125 \r\nQ 33.9375 -1.421875 27.875 -1.421875 \r\nQ 17.96875 -1.421875 11.734375 6.484375 \r\nQ 5.515625 14.40625 5.515625 27.296875 \r\nQ 5.515625 40.1875 11.734375 48.09375 \r\nQ 17.96875 56 27.875 56 \r\nQ 33.9375 56 38.25 53.625 \r\nQ 42.578125 51.265625 45.40625 46.390625 \r\nz\r\nM 14.796875 27.296875 \r\nQ 14.796875 17.390625 18.875 11.75 \r\nQ 22.953125 6.109375 30.078125 6.109375 \r\nQ 37.203125 6.109375 41.296875 11.75 \r\nQ 45.40625 17.390625 45.40625 27.296875 \r\nQ 45.40625 37.203125 41.296875 42.84375 \r\nQ 37.203125 48.484375 30.078125 48.484375 \r\nQ 22.953125 48.484375 18.875 42.84375 \r\nQ 14.796875 37.203125 14.796875 27.296875 \r\nz\r\n\" id=\"DejaVuSans-100\"/>\r\n       <path d=\"M 30.609375 48.390625 \r\nQ 23.390625 48.390625 19.1875 42.75 \r\nQ 14.984375 37.109375 14.984375 27.296875 \r\nQ 14.984375 17.484375 19.15625 11.84375 \r\nQ 23.34375 6.203125 30.609375 6.203125 \r\nQ 37.796875 6.203125 41.984375 11.859375 \r\nQ 46.1875 17.53125 46.1875 27.296875 \r\nQ 46.1875 37.015625 41.984375 42.703125 \r\nQ 37.796875 48.390625 30.609375 48.390625 \r\nz\r\nM 30.609375 56 \r\nQ 42.328125 56 49.015625 48.375 \r\nQ 55.71875 40.765625 55.71875 27.296875 \r\nQ 55.71875 13.875 49.015625 6.21875 \r\nQ 42.328125 -1.421875 30.609375 -1.421875 \r\nQ 18.84375 -1.421875 12.171875 6.21875 \r\nQ 5.515625 13.875 5.515625 27.296875 \r\nQ 5.515625 40.765625 12.171875 48.375 \r\nQ 18.84375 56 30.609375 56 \r\nz\r\n\" id=\"DejaVuSans-111\"/>\r\n      </defs>\r\n      <use xlink:href=\"#DejaVuSans-118\"/>\r\n      <use x=\"59.179688\" xlink:href=\"#DejaVuSans-97\"/>\r\n      <use x=\"120.458984\" xlink:href=\"#DejaVuSans-108\"/>\r\n      <use x=\"148.242188\" xlink:href=\"#DejaVuSans-105\"/>\r\n      <use x=\"176.025391\" xlink:href=\"#DejaVuSans-100\"/>\r\n      <use x=\"239.501953\" xlink:href=\"#DejaVuSans-97\"/>\r\n      <use x=\"300.78125\" xlink:href=\"#DejaVuSans-116\"/>\r\n      <use x=\"339.990234\" xlink:href=\"#DejaVuSans-105\"/>\r\n      <use x=\"367.773438\" xlink:href=\"#DejaVuSans-111\"/>\r\n      <use x=\"428.955078\" xlink:href=\"#DejaVuSans-110\"/>\r\n     </g>\r\n    </g>\r\n   </g>\r\n  </g>\r\n  <g id=\"axes_2\">\r\n   <g id=\"patch_8\">\r\n    <path d=\"M 36.465625 255.718125 \r\nL 417.615625 255.718125 \r\nL 417.615625 160.918125 \r\nL 36.465625 160.918125 \r\nz\r\n\" style=\"fill:#ffffff;\"/>\r\n   </g>\r\n   <g id=\"matplotlib.axis_3\">\r\n    <g id=\"xtick_8\">\r\n     <g id=\"line2d_18\">\r\n      <g>\r\n       <use style=\"stroke:#000000;stroke-width:0.8;\" x=\"53.790625\" xlink:href=\"#m4075540093\" y=\"255.718125\"/>\r\n      </g>\r\n     </g>\r\n     <g id=\"text_15\">\r\n      <!-- 0 -->\r\n      <g transform=\"translate(50.609375 270.316563)scale(0.1 -0.1)\">\r\n       <use xlink:href=\"#DejaVuSans-48\"/>\r\n      </g>\r\n     </g>\r\n    </g>\r\n    <g id=\"xtick_9\">\r\n     <g id=\"line2d_19\">\r\n      <g>\r\n       <use style=\"stroke:#000000;stroke-width:0.8;\" x=\"112.025919\" xlink:href=\"#m4075540093\" y=\"255.718125\"/>\r\n      </g>\r\n     </g>\r\n     <g id=\"text_16\">\r\n      <!-- 20 -->\r\n      <g transform=\"translate(105.663419 270.316563)scale(0.1 -0.1)\">\r\n       <use xlink:href=\"#DejaVuSans-50\"/>\r\n       <use x=\"63.623047\" xlink:href=\"#DejaVuSans-48\"/>\r\n      </g>\r\n     </g>\r\n    </g>\r\n    <g id=\"xtick_10\">\r\n     <g id=\"line2d_20\">\r\n      <g>\r\n       <use style=\"stroke:#000000;stroke-width:0.8;\" x=\"170.261213\" xlink:href=\"#m4075540093\" y=\"255.718125\"/>\r\n      </g>\r\n     </g>\r\n     <g id=\"text_17\">\r\n      <!-- 40 -->\r\n      <g transform=\"translate(163.898713 270.316563)scale(0.1 -0.1)\">\r\n       <use xlink:href=\"#DejaVuSans-52\"/>\r\n       <use x=\"63.623047\" xlink:href=\"#DejaVuSans-48\"/>\r\n      </g>\r\n     </g>\r\n    </g>\r\n    <g id=\"xtick_11\">\r\n     <g id=\"line2d_21\">\r\n      <g>\r\n       <use style=\"stroke:#000000;stroke-width:0.8;\" x=\"228.496507\" xlink:href=\"#m4075540093\" y=\"255.718125\"/>\r\n      </g>\r\n     </g>\r\n     <g id=\"text_18\">\r\n      <!-- 60 -->\r\n      <g transform=\"translate(222.134007 270.316563)scale(0.1 -0.1)\">\r\n       <use xlink:href=\"#DejaVuSans-54\"/>\r\n       <use x=\"63.623047\" xlink:href=\"#DejaVuSans-48\"/>\r\n      </g>\r\n     </g>\r\n    </g>\r\n    <g id=\"xtick_12\">\r\n     <g id=\"line2d_22\">\r\n      <g>\r\n       <use style=\"stroke:#000000;stroke-width:0.8;\" x=\"286.731801\" xlink:href=\"#m4075540093\" y=\"255.718125\"/>\r\n      </g>\r\n     </g>\r\n     <g id=\"text_19\">\r\n      <!-- 80 -->\r\n      <g transform=\"translate(280.369301 270.316563)scale(0.1 -0.1)\">\r\n       <use xlink:href=\"#DejaVuSans-56\"/>\r\n       <use x=\"63.623047\" xlink:href=\"#DejaVuSans-48\"/>\r\n      </g>\r\n     </g>\r\n    </g>\r\n    <g id=\"xtick_13\">\r\n     <g id=\"line2d_23\">\r\n      <g>\r\n       <use style=\"stroke:#000000;stroke-width:0.8;\" x=\"344.967096\" xlink:href=\"#m4075540093\" y=\"255.718125\"/>\r\n      </g>\r\n     </g>\r\n     <g id=\"text_20\">\r\n      <!-- 100 -->\r\n      <g transform=\"translate(335.423346 270.316563)scale(0.1 -0.1)\">\r\n       <use xlink:href=\"#DejaVuSans-49\"/>\r\n       <use x=\"63.623047\" xlink:href=\"#DejaVuSans-48\"/>\r\n       <use x=\"127.246094\" xlink:href=\"#DejaVuSans-48\"/>\r\n      </g>\r\n     </g>\r\n    </g>\r\n    <g id=\"xtick_14\">\r\n     <g id=\"line2d_24\">\r\n      <g>\r\n       <use style=\"stroke:#000000;stroke-width:0.8;\" x=\"403.20239\" xlink:href=\"#m4075540093\" y=\"255.718125\"/>\r\n      </g>\r\n     </g>\r\n     <g id=\"text_21\">\r\n      <!-- 120 -->\r\n      <g transform=\"translate(393.65864 270.316563)scale(0.1 -0.1)\">\r\n       <use xlink:href=\"#DejaVuSans-49\"/>\r\n       <use x=\"63.623047\" xlink:href=\"#DejaVuSans-50\"/>\r\n       <use x=\"127.246094\" xlink:href=\"#DejaVuSans-48\"/>\r\n      </g>\r\n     </g>\r\n    </g>\r\n   </g>\r\n   <g id=\"matplotlib.axis_4\">\r\n    <g id=\"ytick_5\">\r\n     <g id=\"line2d_25\">\r\n      <g>\r\n       <use style=\"stroke:#000000;stroke-width:0.8;\" x=\"36.465625\" xlink:href=\"#m99f5c3bbad\" y=\"254.164802\"/>\r\n      </g>\r\n     </g>\r\n     <g id=\"text_22\">\r\n      <!-- 0 -->\r\n      <g transform=\"translate(23.103125 257.964021)scale(0.1 -0.1)\">\r\n       <use xlink:href=\"#DejaVuSans-48\"/>\r\n      </g>\r\n     </g>\r\n    </g>\r\n    <g id=\"ytick_6\">\r\n     <g id=\"line2d_26\">\r\n      <g>\r\n       <use style=\"stroke:#000000;stroke-width:0.8;\" x=\"36.465625\" xlink:href=\"#m99f5c3bbad\" y=\"207.4002\"/>\r\n      </g>\r\n     </g>\r\n     <g id=\"text_23\">\r\n      <!-- 1 -->\r\n      <g transform=\"translate(23.103125 211.199418)scale(0.1 -0.1)\">\r\n       <use xlink:href=\"#DejaVuSans-49\"/>\r\n      </g>\r\n     </g>\r\n    </g>\r\n   </g>\r\n   <g id=\"line2d_27\">\r\n    <path clip-path=\"url(#p5b8f7ba589)\" d=\"M 53.790625 165.227216 \r\nL 56.70239 175.17946 \r\nL 59.614154 178.273778 \r\nL 62.525919 182.073958 \r\nL 65.437684 184.48454 \r\nL 68.349449 187.582069 \r\nL 71.261213 189.303878 \r\nL 74.172978 190.425578 \r\nL 77.084743 191.195416 \r\nL 79.996507 191.520185 \r\nL 82.908272 191.99466 \r\nL 85.820037 192.774867 \r\nL 88.731801 193.495601 \r\nL 91.643566 193.962556 \r\nL 94.555331 194.774929 \r\nL 97.467096 194.685626 \r\nL 100.37886 195.501115 \r\nL 103.290625 195.848937 \r\nL 106.20239 196.128272 \r\nL 109.114154 196.394116 \r\nL 112.025919 197.278777 \r\nL 114.937684 197.198021 \r\nL 117.849449 197.953626 \r\nL 120.761213 198.660162 \r\nL 123.672978 199.999691 \r\nL 126.584743 202.423269 \r\nL 129.496507 205.387594 \r\nL 132.408272 208.280577 \r\nL 135.320037 211.503783 \r\nL 138.231801 214.87454 \r\nL 141.143566 217.20231 \r\nL 144.055331 219.222321 \r\nL 146.967096 220.49022 \r\nL 149.87886 221.918957 \r\nL 152.790625 223.424868 \r\nL 155.70239 225.103904 \r\nL 158.614154 226.534319 \r\nL 161.525919 227.525235 \r\nL 164.437684 229.197152 \r\nL 167.349449 229.908047 \r\nL 170.261213 231.306616 \r\nL 173.172978 232.203496 \r\nL 176.084743 233.208893 \r\nL 178.996507 233.978932 \r\nL 181.908272 235.015201 \r\nL 184.820037 235.370257 \r\nL 187.731801 236.022479 \r\nL 190.643566 236.76604 \r\nL 193.555331 237.077058 \r\nL 196.467096 237.705888 \r\nL 199.37886 237.915968 \r\nL 202.290625 238.502978 \r\nL 205.20239 238.76475 \r\nL 208.114154 238.985423 \r\nL 211.025919 239.490984 \r\nL 213.937684 239.679615 \r\nL 216.849449 240.089658 \r\nL 219.761213 240.513544 \r\nL 222.672978 240.44599 \r\nL 225.584743 241.328576 \r\nL 228.496507 241.458482 \r\nL 231.408272 241.843391 \r\nL 234.320037 241.963702 \r\nL 237.231801 242.558586 \r\nL 240.143566 243.121284 \r\nL 243.055331 243.121337 \r\nL 245.967096 243.491879 \r\nL 248.87886 243.655233 \r\nL 251.790625 244.097161 \r\nL 254.70239 244.014406 \r\nL 257.614154 244.323371 \r\nL 260.525919 244.924912 \r\nL 263.437684 244.858662 \r\nL 266.349449 245.53674 \r\nL 269.261213 245.322838 \r\nL 272.172978 245.78326 \r\nL 275.084743 245.898085 \r\nL 277.996507 246.246389 \r\nL 280.908272 246.399836 \r\nL 283.820037 246.684849 \r\nL 286.731801 246.868873 \r\nL 289.643566 246.890844 \r\nL 292.555331 247.085527 \r\nL 295.467096 247.234158 \r\nL 298.37886 247.626815 \r\nL 301.290625 247.583471 \r\nL 304.20239 248.243847 \r\nL 307.114154 248.0634 \r\nL 310.025919 248.578725 \r\nL 312.937684 248.478558 \r\nL 315.849449 248.547893 \r\nL 318.761213 248.732977 \r\nL 321.672978 248.722185 \r\nL 324.584743 249.074278 \r\nL 327.496507 249.398659 \r\nL 330.408272 249.31822 \r\nL 333.320037 249.328581 \r\nL 336.231801 249.399731 \r\nL 339.143566 249.749466 \r\nL 342.055331 249.801419 \r\nL 344.967096 250.011182 \r\nL 347.87886 250.289807 \r\nL 350.790625 249.944716 \r\nL 353.70239 250.066531 \r\nL 356.614154 250.427478 \r\nL 359.525919 250.46138 \r\nL 362.437684 250.794886 \r\nL 365.349449 250.486368 \r\nL 368.261213 250.580077 \r\nL 371.172978 250.646765 \r\nL 374.084743 250.569103 \r\nL 376.996507 250.830521 \r\nL 379.908272 250.742254 \r\nL 382.820037 250.928451 \r\nL 385.731801 251.046899 \r\nL 388.643566 251.065872 \r\nL 391.555331 251.409034 \r\nL 394.467096 251.248782 \r\nL 397.37886 251.328646 \r\nL 400.290625 251.288797 \r\n\" style=\"fill:none;stroke:#008000;stroke-linecap:square;stroke-width:1.5;\"/>\r\n   </g>\r\n   <g id=\"line2d_28\">\r\n    <path clip-path=\"url(#p5b8f7ba589)\" d=\"M 53.790625 172.46775 \r\nL 56.70239 176.999513 \r\nL 59.614154 181.439844 \r\nL 62.525919 184.142528 \r\nL 65.437684 185.987779 \r\nL 68.349449 190.223593 \r\nL 71.261213 191.502396 \r\nL 74.172978 192.075678 \r\nL 77.084743 192.318348 \r\nL 79.996507 193.21941 \r\nL 82.908272 192.556391 \r\nL 85.820037 194.377062 \r\nL 88.731801 195.089056 \r\nL 91.643566 196.04285 \r\nL 94.555331 196.423568 \r\nL 97.467096 196.580269 \r\nL 100.37886 197.268514 \r\nL 103.290625 198.37043 \r\nL 106.20239 197.890419 \r\nL 109.114154 198.536937 \r\nL 112.025919 198.261594 \r\nL 114.937684 198.261159 \r\nL 117.849449 199.870825 \r\nL 120.761213 200.546627 \r\nL 123.672978 202.583365 \r\nL 126.584743 205.922583 \r\nL 129.496507 209.132048 \r\nL 132.408272 212.607413 \r\nL 135.320037 215.17477 \r\nL 138.231801 218.184159 \r\nL 141.143566 220.049088 \r\nL 144.055331 221.203329 \r\nL 146.967096 222.402134 \r\nL 149.87886 223.38352 \r\nL 152.790625 224.757702 \r\nL 155.70239 226.138214 \r\nL 158.614154 227.530038 \r\nL 161.525919 228.412215 \r\nL 164.437684 229.566333 \r\nL 167.349449 230.803132 \r\nL 170.261213 232.139195 \r\nL 173.172978 232.620209 \r\nL 176.084743 233.523881 \r\nL 178.996507 234.198219 \r\nL 181.908272 234.255915 \r\nL 184.820037 235.47949 \r\nL 187.731801 235.767744 \r\nL 190.643566 236.188848 \r\nL 193.555331 235.746615 \r\nL 196.467096 236.898556 \r\nL 199.37886 237.304057 \r\nL 202.290625 237.634518 \r\nL 205.20239 236.852727 \r\nL 208.114154 237.467721 \r\nL 211.025919 236.767628 \r\nL 213.937684 237.883053 \r\nL 216.849449 237.921608 \r\nL 219.761213 238.275229 \r\nL 222.672978 238.62219 \r\nL 225.584743 238.876067 \r\nL 228.496507 239.309751 \r\nL 231.408272 238.882457 \r\nL 234.320037 239.667345 \r\nL 237.231801 239.739677 \r\nL 240.143566 239.710357 \r\nL 243.055331 238.220323 \r\nL 245.967096 240.472673 \r\nL 248.87886 239.667371 \r\nL 251.790625 239.428768 \r\nL 254.70239 239.843738 \r\nL 257.614154 240.513371 \r\nL 260.525919 240.147619 \r\nL 263.437684 241.115086 \r\nL 266.349449 240.472877 \r\nL 269.261213 241.4258 \r\nL 272.172978 239.635054 \r\nL 275.084743 240.867905 \r\nL 277.996507 241.170088 \r\nL 280.908272 241.634201 \r\nL 283.820037 240.938329 \r\nL 286.731801 241.566979 \r\nL 289.643566 241.704591 \r\nL 292.555331 241.332102 \r\nL 295.467096 241.650234 \r\nL 298.37886 241.560544 \r\nL 301.290625 239.983483 \r\nL 304.20239 242.004732 \r\nL 307.114154 241.161276 \r\nL 310.025919 241.840761 \r\nL 312.937684 242.094443 \r\nL 315.849449 242.009418 \r\nL 318.761213 241.872071 \r\nL 321.672978 241.722834 \r\nL 324.584743 242.699339 \r\nL 327.496507 242.853652 \r\nL 330.408272 242.113156 \r\nL 333.320037 240.757124 \r\nL 336.231801 242.727655 \r\nL 339.143566 240.80868 \r\nL 342.055331 241.887481 \r\nL 344.967096 241.892133 \r\nL 347.87886 242.461995 \r\nL 350.790625 242.533176 \r\nL 353.70239 241.781371 \r\nL 356.614154 241.704138 \r\nL 359.525919 241.09967 \r\nL 362.437684 241.176268 \r\nL 365.349449 241.525153 \r\nL 368.261213 242.260525 \r\nL 371.172978 241.385074 \r\nL 374.084743 241.576747 \r\nL 376.996507 242.145527 \r\nL 379.908272 242.260556 \r\nL 382.820037 241.618484 \r\nL 385.731801 241.661564 \r\nL 388.643566 240.86694 \r\nL 391.555331 240.736889 \r\nL 394.467096 240.89441 \r\nL 397.37886 242.481162 \r\nL 400.290625 241.524888 \r\n\" style=\"fill:none;stroke:#0000ff;stroke-linecap:square;stroke-width:1.5;\"/>\r\n   </g>\r\n   <g id=\"patch_9\">\r\n    <path d=\"M 36.465625 255.718125 \r\nL 36.465625 160.918125 \r\n\" style=\"fill:none;stroke:#000000;stroke-linecap:square;stroke-linejoin:miter;stroke-width:0.8;\"/>\r\n   </g>\r\n   <g id=\"patch_10\">\r\n    <path d=\"M 417.615625 255.718125 \r\nL 417.615625 160.918125 \r\n\" style=\"fill:none;stroke:#000000;stroke-linecap:square;stroke-linejoin:miter;stroke-width:0.8;\"/>\r\n   </g>\r\n   <g id=\"patch_11\">\r\n    <path d=\"M 36.465625 255.718125 \r\nL 417.615625 255.718125 \r\n\" style=\"fill:none;stroke:#000000;stroke-linecap:square;stroke-linejoin:miter;stroke-width:0.8;\"/>\r\n   </g>\r\n   <g id=\"patch_12\">\r\n    <path d=\"M 36.465625 160.918125 \r\nL 417.615625 160.918125 \r\n\" style=\"fill:none;stroke:#000000;stroke-linecap:square;stroke-linejoin:miter;stroke-width:0.8;\"/>\r\n   </g>\r\n   <g id=\"text_24\">\r\n    <!-- Loss -->\r\n    <g transform=\"translate(213.88 154.918125)scale(0.12 -0.12)\">\r\n     <defs>\r\n      <path d=\"M 9.8125 72.90625 \r\nL 19.671875 72.90625 \r\nL 19.671875 8.296875 \r\nL 55.171875 8.296875 \r\nL 55.171875 0 \r\nL 9.8125 0 \r\nz\r\n\" id=\"DejaVuSans-76\"/>\r\n      <path d=\"M 44.28125 53.078125 \r\nL 44.28125 44.578125 \r\nQ 40.484375 46.53125 36.375 47.5 \r\nQ 32.28125 48.484375 27.875 48.484375 \r\nQ 21.1875 48.484375 17.84375 46.4375 \r\nQ 14.5 44.390625 14.5 40.28125 \r\nQ 14.5 37.15625 16.890625 35.375 \r\nQ 19.28125 33.59375 26.515625 31.984375 \r\nL 29.59375 31.296875 \r\nQ 39.15625 29.25 43.1875 25.515625 \r\nQ 47.21875 21.78125 47.21875 15.09375 \r\nQ 47.21875 7.46875 41.1875 3.015625 \r\nQ 35.15625 -1.421875 24.609375 -1.421875 \r\nQ 20.21875 -1.421875 15.453125 -0.5625 \r\nQ 10.6875 0.296875 5.421875 2 \r\nL 5.421875 11.28125 \r\nQ 10.40625 8.6875 15.234375 7.390625 \r\nQ 20.0625 6.109375 24.8125 6.109375 \r\nQ 31.15625 6.109375 34.5625 8.28125 \r\nQ 37.984375 10.453125 37.984375 14.40625 \r\nQ 37.984375 18.0625 35.515625 20.015625 \r\nQ 33.0625 21.96875 24.703125 23.78125 \r\nL 21.578125 24.515625 \r\nQ 13.234375 26.265625 9.515625 29.90625 \r\nQ 5.8125 33.546875 5.8125 39.890625 \r\nQ 5.8125 47.609375 11.28125 51.796875 \r\nQ 16.75 56 26.8125 56 \r\nQ 31.78125 56 36.171875 55.265625 \r\nQ 40.578125 54.546875 44.28125 53.078125 \r\nz\r\n\" id=\"DejaVuSans-115\"/>\r\n     </defs>\r\n     <use xlink:href=\"#DejaVuSans-76\"/>\r\n     <use x=\"53.962891\" xlink:href=\"#DejaVuSans-111\"/>\r\n     <use x=\"115.144531\" xlink:href=\"#DejaVuSans-115\"/>\r\n     <use x=\"167.244141\" xlink:href=\"#DejaVuSans-115\"/>\r\n    </g>\r\n   </g>\r\n   <g id=\"legend_2\">\r\n    <g id=\"patch_13\">\r\n     <path d=\"M 329.38125 198.274375 \r\nL 410.615625 198.274375 \r\nQ 412.615625 198.274375 412.615625 196.274375 \r\nL 412.615625 167.918125 \r\nQ 412.615625 165.918125 410.615625 165.918125 \r\nL 329.38125 165.918125 \r\nQ 327.38125 165.918125 327.38125 167.918125 \r\nL 327.38125 196.274375 \r\nQ 327.38125 198.274375 329.38125 198.274375 \r\nz\r\n\" style=\"fill:#ffffff;opacity:0.8;stroke:#cccccc;stroke-linejoin:miter;\"/>\r\n    </g>\r\n    <g id=\"line2d_29\">\r\n     <path d=\"M 331.38125 174.016563 \r\nL 351.38125 174.016563 \r\n\" style=\"fill:none;stroke:#008000;stroke-linecap:square;stroke-width:1.5;\"/>\r\n    </g>\r\n    <g id=\"line2d_30\"/>\r\n    <g id=\"text_25\">\r\n     <!-- train -->\r\n     <g transform=\"translate(359.38125 177.516563)scale(0.1 -0.1)\">\r\n      <use xlink:href=\"#DejaVuSans-116\"/>\r\n      <use x=\"39.208984\" xlink:href=\"#DejaVuSans-114\"/>\r\n      <use x=\"80.322266\" xlink:href=\"#DejaVuSans-97\"/>\r\n      <use x=\"141.601562\" xlink:href=\"#DejaVuSans-105\"/>\r\n      <use x=\"169.384766\" xlink:href=\"#DejaVuSans-110\"/>\r\n     </g>\r\n    </g>\r\n    <g id=\"line2d_31\">\r\n     <path d=\"M 331.38125 188.694688 \r\nL 351.38125 188.694688 \r\n\" style=\"fill:none;stroke:#0000ff;stroke-linecap:square;stroke-width:1.5;\"/>\r\n    </g>\r\n    <g id=\"line2d_32\"/>\r\n    <g id=\"text_26\">\r\n     <!-- validation -->\r\n     <g transform=\"translate(359.38125 192.194688)scale(0.1 -0.1)\">\r\n      <use xlink:href=\"#DejaVuSans-118\"/>\r\n      <use x=\"59.179688\" xlink:href=\"#DejaVuSans-97\"/>\r\n      <use x=\"120.458984\" xlink:href=\"#DejaVuSans-108\"/>\r\n      <use x=\"148.242188\" xlink:href=\"#DejaVuSans-105\"/>\r\n      <use x=\"176.025391\" xlink:href=\"#DejaVuSans-100\"/>\r\n      <use x=\"239.501953\" xlink:href=\"#DejaVuSans-97\"/>\r\n      <use x=\"300.78125\" xlink:href=\"#DejaVuSans-116\"/>\r\n      <use x=\"339.990234\" xlink:href=\"#DejaVuSans-105\"/>\r\n      <use x=\"367.773438\" xlink:href=\"#DejaVuSans-111\"/>\r\n      <use x=\"428.955078\" xlink:href=\"#DejaVuSans-110\"/>\r\n     </g>\r\n    </g>\r\n   </g>\r\n  </g>\r\n </g>\r\n <defs>\r\n  <clipPath id=\"pe2742062cf\">\r\n   <rect height=\"94.8\" width=\"381.15\" x=\"36.465625\" y=\"22.318125\"/>\r\n  </clipPath>\r\n  <clipPath id=\"p5b8f7ba589\">\r\n   <rect height=\"94.8\" width=\"381.15\" x=\"36.465625\" y=\"160.918125\"/>\r\n  </clipPath>\r\n </defs>\r\n</svg>\r\n",
      "image/png": "[encoded data removed]"
     },
     "metadata": {
      "needs_background": "light"
     }
    }
   ],
   "source": [
    "# plot accuracy and loss plot\n",
    "plt.subplot(211)\n",
    "plt.title(\"Accuracy\")\n",
    "plt.plot(history.history[\"acc\"], color=\"g\", label=\"train\")\n",
    "plt.plot(history.history[\"val_acc\"], color=\"b\", label=\"validation\")\n",
    "plt.legend(loc=\"best\")\n",
    "\n",
    "plt.subplot(212)\n",
    "plt.title(\"Loss\")\n",
    "plt.plot(history.history[\"loss\"], color=\"g\", label=\"train\")\n",
    "plt.plot(history.history[\"val_loss\"], color=\"b\", label=\"validation\")\n",
    "plt.legend(loc=\"best\")\n",
    "\n",
    "plt.tight_layout()\n",
    "plt.show()\n",
    "\n",
    "# labels\n",
    "ytest = np.argmax(Ytest, axis=1)\n",
    "\n",
    "# get predictions\n",
    "Ytest_ = model.predict([Xstest, Xqtest])\n",
    "ytest_ = np.argmax(Ytest_, axis=1)"
   ]
  },
  {
   "cell_type": "code",
   "execution_count": null,
   "metadata": {},
   "outputs": [],
   "source": []
  }
 ]
}